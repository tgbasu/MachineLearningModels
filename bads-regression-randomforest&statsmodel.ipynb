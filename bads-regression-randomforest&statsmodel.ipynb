{
 "cells": [
  {
   "cell_type": "code",
   "execution_count": 221,
   "id": "7c548a01",
   "metadata": {},
   "outputs": [],
   "source": [
    "import numpy as np\n",
    "import pandas as pd\n",
    "import matplotlib.pyplot as plt\n",
    "import seaborn as sns\n",
    "from sklearn.linear_model import LinearRegression\n",
    "from sklearn.model_selection import train_test_split\n",
    "from sklearn.preprocessing import OneHotEncoder,StandardScaler\n",
    "from sklearn.compose import ColumnTransformer\n",
    "from sklearn import metrics\n",
    "from sklearn.metrics import mean_squared_error\n",
    "from mlxtend.feature_selection import SequentialFeatureSelector as SFS\n",
    "from sklearn.ensemble import RandomForestRegressor\n",
    "import joblib\n",
    "from sklearn.tree import DecisionTreeRegressor\n",
    "import statsmodels.api as sm\n",
    "import xgboost as xgb"
   ]
  },
  {
   "cell_type": "code",
   "execution_count": 222,
   "id": "bacf33cf",
   "metadata": {},
   "outputs": [
    {
     "data": {
      "text/html": [
       "<div>\n",
       "<style scoped>\n",
       "    .dataframe tbody tr th:only-of-type {\n",
       "        vertical-align: middle;\n",
       "    }\n",
       "\n",
       "    .dataframe tbody tr th {\n",
       "        vertical-align: top;\n",
       "    }\n",
       "\n",
       "    .dataframe thead th {\n",
       "        text-align: right;\n",
       "    }\n",
       "</style>\n",
       "<table border=\"1\" class=\"dataframe\">\n",
       "  <thead>\n",
       "    <tr style=\"text-align: right;\">\n",
       "      <th></th>\n",
       "      <th>0</th>\n",
       "      <th>1</th>\n",
       "      <th>2</th>\n",
       "      <th>3</th>\n",
       "      <th>4</th>\n",
       "    </tr>\n",
       "  </thead>\n",
       "  <tbody>\n",
       "    <tr>\n",
       "      <th>loan_number</th>\n",
       "      <td>0</td>\n",
       "      <td>1</td>\n",
       "      <td>2</td>\n",
       "      <td>3</td>\n",
       "      <td>4</td>\n",
       "    </tr>\n",
       "    <tr>\n",
       "      <th>emp_length</th>\n",
       "      <td>3.0</td>\n",
       "      <td>10.0</td>\n",
       "      <td>10.0</td>\n",
       "      <td>10.0</td>\n",
       "      <td>10.0</td>\n",
       "    </tr>\n",
       "    <tr>\n",
       "      <th>homeownership</th>\n",
       "      <td>OWN</td>\n",
       "      <td>OWN</td>\n",
       "      <td>RENT</td>\n",
       "      <td>MORTGAGE</td>\n",
       "      <td>MORTGAGE</td>\n",
       "    </tr>\n",
       "    <tr>\n",
       "      <th>annual_income</th>\n",
       "      <td>30000.0</td>\n",
       "      <td>60000.0</td>\n",
       "      <td>84000.0</td>\n",
       "      <td>131000.0</td>\n",
       "      <td>188500.0</td>\n",
       "    </tr>\n",
       "    <tr>\n",
       "      <th>verified_income</th>\n",
       "      <td>Source Verified</td>\n",
       "      <td>Verified</td>\n",
       "      <td>Source Verified</td>\n",
       "      <td>Source Verified</td>\n",
       "      <td>Not Verified</td>\n",
       "    </tr>\n",
       "    <tr>\n",
       "      <th>debt_to_income</th>\n",
       "      <td>20.72</td>\n",
       "      <td>1.0</td>\n",
       "      <td>15.23</td>\n",
       "      <td>27.95</td>\n",
       "      <td>7.93</td>\n",
       "    </tr>\n",
       "    <tr>\n",
       "      <th>delinq_2y</th>\n",
       "      <td>0</td>\n",
       "      <td>0</td>\n",
       "      <td>0</td>\n",
       "      <td>0</td>\n",
       "      <td>0</td>\n",
       "    </tr>\n",
       "    <tr>\n",
       "      <th>total_credit_limit</th>\n",
       "      <td>48400</td>\n",
       "      <td>31500</td>\n",
       "      <td>74900</td>\n",
       "      <td>408405</td>\n",
       "      <td>85595</td>\n",
       "    </tr>\n",
       "    <tr>\n",
       "      <th>total_credit_utilized</th>\n",
       "      <td>16832</td>\n",
       "      <td>1251</td>\n",
       "      <td>24189</td>\n",
       "      <td>78141</td>\n",
       "      <td>57993</td>\n",
       "    </tr>\n",
       "    <tr>\n",
       "      <th>public_record_bankrupt</th>\n",
       "      <td>0</td>\n",
       "      <td>0</td>\n",
       "      <td>0</td>\n",
       "      <td>0</td>\n",
       "      <td>0</td>\n",
       "    </tr>\n",
       "    <tr>\n",
       "      <th>loan_purpose</th>\n",
       "      <td>credit_card</td>\n",
       "      <td>other</td>\n",
       "      <td>debt_consolidation</td>\n",
       "      <td>debt_consolidation</td>\n",
       "      <td>home_improvement</td>\n",
       "    </tr>\n",
       "    <tr>\n",
       "      <th>application_type</th>\n",
       "      <td>individual</td>\n",
       "      <td>individual</td>\n",
       "      <td>individual</td>\n",
       "      <td>individual</td>\n",
       "      <td>individual</td>\n",
       "    </tr>\n",
       "    <tr>\n",
       "      <th>loan_amount</th>\n",
       "      <td>15000</td>\n",
       "      <td>16000</td>\n",
       "      <td>30000</td>\n",
       "      <td>20000</td>\n",
       "      <td>12000</td>\n",
       "    </tr>\n",
       "    <tr>\n",
       "      <th>term</th>\n",
       "      <td>36</td>\n",
       "      <td>60</td>\n",
       "      <td>36</td>\n",
       "      <td>36</td>\n",
       "      <td>36</td>\n",
       "    </tr>\n",
       "    <tr>\n",
       "      <th>issue_month</th>\n",
       "      <td>Feb-18</td>\n",
       "      <td>Feb-18</td>\n",
       "      <td>Mar-18</td>\n",
       "      <td>Jan-18</td>\n",
       "      <td>Mar-18</td>\n",
       "    </tr>\n",
       "    <tr>\n",
       "      <th>interest_rate</th>\n",
       "      <td>12.62</td>\n",
       "      <td>12.62</td>\n",
       "      <td>9.93</td>\n",
       "      <td>6.08</td>\n",
       "      <td>7.96</td>\n",
       "    </tr>\n",
       "  </tbody>\n",
       "</table>\n",
       "</div>"
      ],
      "text/plain": [
       "                                      0           1                   2  \\\n",
       "loan_number                           0           1                   2   \n",
       "emp_length                          3.0        10.0                10.0   \n",
       "homeownership                       OWN         OWN                RENT   \n",
       "annual_income                   30000.0     60000.0             84000.0   \n",
       "verified_income         Source Verified    Verified     Source Verified   \n",
       "debt_to_income                    20.72         1.0               15.23   \n",
       "delinq_2y                             0           0                   0   \n",
       "total_credit_limit                48400       31500               74900   \n",
       "total_credit_utilized             16832        1251               24189   \n",
       "public_record_bankrupt                0           0                   0   \n",
       "loan_purpose                credit_card       other  debt_consolidation   \n",
       "application_type             individual  individual          individual   \n",
       "loan_amount                       15000       16000               30000   \n",
       "term                                 36          60                  36   \n",
       "issue_month                      Feb-18      Feb-18              Mar-18   \n",
       "interest_rate                     12.62       12.62                9.93   \n",
       "\n",
       "                                         3                 4  \n",
       "loan_number                              3                 4  \n",
       "emp_length                            10.0              10.0  \n",
       "homeownership                     MORTGAGE          MORTGAGE  \n",
       "annual_income                     131000.0          188500.0  \n",
       "verified_income            Source Verified      Not Verified  \n",
       "debt_to_income                       27.95              7.93  \n",
       "delinq_2y                                0                 0  \n",
       "total_credit_limit                  408405             85595  \n",
       "total_credit_utilized                78141             57993  \n",
       "public_record_bankrupt                   0                 0  \n",
       "loan_purpose            debt_consolidation  home_improvement  \n",
       "application_type                individual        individual  \n",
       "loan_amount                          20000             12000  \n",
       "term                                    36                36  \n",
       "issue_month                         Jan-18            Mar-18  \n",
       "interest_rate                         6.08              7.96  "
      ]
     },
     "execution_count": 222,
     "metadata": {},
     "output_type": "execute_result"
    }
   ],
   "source": [
    "train2_data = pd.read_csv('train.csv')\n",
    "train2_data = train2_data.dropna()\n",
    "train2_data.head().T"
   ]
  },
  {
   "cell_type": "code",
   "execution_count": 223,
   "id": "a6e50612",
   "metadata": {},
   "outputs": [
    {
     "data": {
      "text/html": [
       "<div>\n",
       "<style scoped>\n",
       "    .dataframe tbody tr th:only-of-type {\n",
       "        vertical-align: middle;\n",
       "    }\n",
       "\n",
       "    .dataframe tbody tr th {\n",
       "        vertical-align: top;\n",
       "    }\n",
       "\n",
       "    .dataframe thead th {\n",
       "        text-align: right;\n",
       "    }\n",
       "</style>\n",
       "<table border=\"1\" class=\"dataframe\">\n",
       "  <thead>\n",
       "    <tr style=\"text-align: right;\">\n",
       "      <th></th>\n",
       "      <th>0</th>\n",
       "      <th>1</th>\n",
       "      <th>2</th>\n",
       "      <th>3</th>\n",
       "      <th>4</th>\n",
       "    </tr>\n",
       "  </thead>\n",
       "  <tbody>\n",
       "    <tr>\n",
       "      <th>loan_number</th>\n",
       "      <td>4000</td>\n",
       "      <td>4001</td>\n",
       "      <td>4002</td>\n",
       "      <td>4003</td>\n",
       "      <td>4004</td>\n",
       "    </tr>\n",
       "    <tr>\n",
       "      <th>emp_length</th>\n",
       "      <td>4.0</td>\n",
       "      <td>1.0</td>\n",
       "      <td>2.0</td>\n",
       "      <td>10.0</td>\n",
       "      <td>6.0</td>\n",
       "    </tr>\n",
       "    <tr>\n",
       "      <th>homeownership</th>\n",
       "      <td>MORTGAGE</td>\n",
       "      <td>MORTGAGE</td>\n",
       "      <td>RENT</td>\n",
       "      <td>MORTGAGE</td>\n",
       "      <td>OWN</td>\n",
       "    </tr>\n",
       "    <tr>\n",
       "      <th>annual_income</th>\n",
       "      <td>75000.0</td>\n",
       "      <td>75000.0</td>\n",
       "      <td>50000.0</td>\n",
       "      <td>140000.0</td>\n",
       "      <td>80000.0</td>\n",
       "    </tr>\n",
       "    <tr>\n",
       "      <th>verified_income</th>\n",
       "      <td>Source Verified</td>\n",
       "      <td>Verified</td>\n",
       "      <td>Source Verified</td>\n",
       "      <td>Source Verified</td>\n",
       "      <td>Source Verified</td>\n",
       "    </tr>\n",
       "    <tr>\n",
       "      <th>debt_to_income</th>\n",
       "      <td>8.46</td>\n",
       "      <td>33.97</td>\n",
       "      <td>16.37</td>\n",
       "      <td>14.23</td>\n",
       "      <td>6.84</td>\n",
       "    </tr>\n",
       "    <tr>\n",
       "      <th>delinq_2y</th>\n",
       "      <td>0</td>\n",
       "      <td>1</td>\n",
       "      <td>0</td>\n",
       "      <td>0</td>\n",
       "      <td>0</td>\n",
       "    </tr>\n",
       "    <tr>\n",
       "      <th>total_credit_limit</th>\n",
       "      <td>293947</td>\n",
       "      <td>128979</td>\n",
       "      <td>39814</td>\n",
       "      <td>57595</td>\n",
       "      <td>193672</td>\n",
       "    </tr>\n",
       "    <tr>\n",
       "      <th>total_credit_utilized</th>\n",
       "      <td>164954</td>\n",
       "      <td>59745</td>\n",
       "      <td>25131</td>\n",
       "      <td>43891</td>\n",
       "      <td>13334</td>\n",
       "    </tr>\n",
       "    <tr>\n",
       "      <th>public_record_bankrupt</th>\n",
       "      <td>0</td>\n",
       "      <td>0</td>\n",
       "      <td>0</td>\n",
       "      <td>1</td>\n",
       "      <td>0</td>\n",
       "    </tr>\n",
       "    <tr>\n",
       "      <th>loan_purpose</th>\n",
       "      <td>house</td>\n",
       "      <td>credit_card</td>\n",
       "      <td>debt_consolidation</td>\n",
       "      <td>small_business</td>\n",
       "      <td>major_purchase</td>\n",
       "    </tr>\n",
       "    <tr>\n",
       "      <th>application_type</th>\n",
       "      <td>individual</td>\n",
       "      <td>joint</td>\n",
       "      <td>individual</td>\n",
       "      <td>individual</td>\n",
       "      <td>individual</td>\n",
       "    </tr>\n",
       "    <tr>\n",
       "      <th>loan_amount</th>\n",
       "      <td>10000</td>\n",
       "      <td>40000</td>\n",
       "      <td>5825</td>\n",
       "      <td>35000</td>\n",
       "      <td>10000</td>\n",
       "    </tr>\n",
       "    <tr>\n",
       "      <th>term</th>\n",
       "      <td>60</td>\n",
       "      <td>36</td>\n",
       "      <td>36</td>\n",
       "      <td>36</td>\n",
       "      <td>60</td>\n",
       "    </tr>\n",
       "    <tr>\n",
       "      <th>issue_month</th>\n",
       "      <td>Feb-18</td>\n",
       "      <td>Mar-18</td>\n",
       "      <td>Feb-18</td>\n",
       "      <td>Feb-18</td>\n",
       "      <td>Mar-18</td>\n",
       "    </tr>\n",
       "  </tbody>\n",
       "</table>\n",
       "</div>"
      ],
      "text/plain": [
       "                                      0            1                   2  \\\n",
       "loan_number                        4000         4001                4002   \n",
       "emp_length                          4.0          1.0                 2.0   \n",
       "homeownership                  MORTGAGE     MORTGAGE                RENT   \n",
       "annual_income                   75000.0      75000.0             50000.0   \n",
       "verified_income         Source Verified     Verified     Source Verified   \n",
       "debt_to_income                     8.46        33.97               16.37   \n",
       "delinq_2y                             0            1                   0   \n",
       "total_credit_limit               293947       128979               39814   \n",
       "total_credit_utilized            164954        59745               25131   \n",
       "public_record_bankrupt                0            0                   0   \n",
       "loan_purpose                      house  credit_card  debt_consolidation   \n",
       "application_type             individual        joint          individual   \n",
       "loan_amount                       10000        40000                5825   \n",
       "term                                 60           36                  36   \n",
       "issue_month                      Feb-18       Mar-18              Feb-18   \n",
       "\n",
       "                                      3                4  \n",
       "loan_number                        4003             4004  \n",
       "emp_length                         10.0              6.0  \n",
       "homeownership                  MORTGAGE              OWN  \n",
       "annual_income                  140000.0          80000.0  \n",
       "verified_income         Source Verified  Source Verified  \n",
       "debt_to_income                    14.23             6.84  \n",
       "delinq_2y                             0                0  \n",
       "total_credit_limit                57595           193672  \n",
       "total_credit_utilized             43891            13334  \n",
       "public_record_bankrupt                1                0  \n",
       "loan_purpose             small_business   major_purchase  \n",
       "application_type             individual       individual  \n",
       "loan_amount                       35000            10000  \n",
       "term                                 36               60  \n",
       "issue_month                      Feb-18           Mar-18  "
      ]
     },
     "execution_count": 223,
     "metadata": {},
     "output_type": "execute_result"
    }
   ],
   "source": [
    "test2_data = pd.read_csv('test.csv')\n",
    "test2_data.head().T"
   ]
  },
  {
   "cell_type": "code",
   "execution_count": 224,
   "id": "332c6716",
   "metadata": {},
   "outputs": [],
   "source": [
    "features = ['loan_number', 'debt_to_income', 'delinq_2y', 'total_credit_limit', 'total_credit_utilized', 'public_record_bankrupt', 'term', 'annual_income']\n",
    "target = 'interest_rate'"
   ]
  },
  {
   "cell_type": "code",
   "execution_count": 225,
   "id": "dd21fabd",
   "metadata": {},
   "outputs": [],
   "source": [
    "train2_data, test2_data = train_test_split(train2_data, test_size=0.2, random_state=42)"
   ]
  },
  {
   "cell_type": "code",
   "execution_count": 226,
   "id": "f466aeec",
   "metadata": {},
   "outputs": [],
   "source": [
    "train2_data = train2_data.dropna(subset=features + [target])"
   ]
  },
  {
   "cell_type": "code",
   "execution_count": 227,
   "id": "6360ed53",
   "metadata": {},
   "outputs": [],
   "source": [
    "X_train = train2_data[features]\n",
    "y_train = train2_data[target]\n",
    "X_test = test2_data[features]\n",
    "y_test = test2_data[target]"
   ]
  },
  {
   "cell_type": "code",
   "execution_count": 228,
   "id": "7c9296a9",
   "metadata": {},
   "outputs": [],
   "source": [
    "model = RandomForestRegressor(n_estimators=100, random_state=42)"
   ]
  },
  {
   "cell_type": "code",
   "execution_count": 229,
   "id": "75d5cd8d",
   "metadata": {},
   "outputs": [
    {
     "data": {
      "text/plain": [
       "RandomForestRegressor(random_state=42)"
      ]
     },
     "execution_count": 229,
     "metadata": {},
     "output_type": "execute_result"
    }
   ],
   "source": [
    "model.fit(X_train, y_train)"
   ]
  },
  {
   "cell_type": "code",
   "execution_count": 230,
   "id": "f711a9bd",
   "metadata": {},
   "outputs": [],
   "source": [
    "y_pred = model.predict(X_test)"
   ]
  },
  {
   "cell_type": "code",
   "execution_count": 231,
   "id": "dd56acd5",
   "metadata": {},
   "outputs": [
    {
     "name": "stdout",
     "output_type": "stream",
     "text": [
      "RMSE: 4.333892153272571\n"
     ]
    }
   ],
   "source": [
    "rmse = np.sqrt(mean_squared_error(y_test, y_pred))\n",
    "print(\"RMSE:\", rmse)"
   ]
  },
  {
   "cell_type": "code",
   "execution_count": 232,
   "id": "f24adde2",
   "metadata": {},
   "outputs": [
    {
     "name": "stdout",
     "output_type": "stream",
     "text": [
      "                            OLS Regression Results                            \n",
      "==============================================================================\n",
      "Dep. Variable:          interest_rate   R-squared:                       0.216\n",
      "Model:                            OLS   Adj. R-squared:                  0.214\n",
      "Method:                 Least Squares   F-statistic:                     101.4\n",
      "Date:                Mon, 29 May 2023   Prob (F-statistic):          1.61e-149\n",
      "Time:                        15:31:47   Log-Likelihood:                -8569.4\n",
      "No. Observations:                2954   AIC:                         1.716e+04\n",
      "Df Residuals:                    2945   BIC:                         1.721e+04\n",
      "Df Model:                           8                                         \n",
      "Covariance Type:            nonrobust                                         \n",
      "==========================================================================================\n",
      "                             coef    std err          t      P>|t|      [0.025      0.975]\n",
      "------------------------------------------------------------------------------------------\n",
      "const                      4.3750      0.381     11.481      0.000       3.628       5.122\n",
      "loan_number            -2.844e-05   7.07e-05     -0.402      0.687      -0.000       0.000\n",
      "debt_to_income             0.0347      0.006      5.614      0.000       0.023       0.047\n",
      "delinq_2y                  0.9366      0.126      7.406      0.000       0.689       1.185\n",
      "total_credit_limit     -6.247e-06   5.52e-07    -11.311      0.000   -7.33e-06   -5.16e-06\n",
      "total_credit_utilized   1.109e-05   1.95e-06      5.681      0.000    7.26e-06    1.49e-05\n",
      "public_record_bankrupt     0.5021      0.244      2.058      0.040       0.024       0.980\n",
      "term                       0.1780      0.007     24.199      0.000       0.164       0.192\n",
      "annual_income          -7.498e-07   1.43e-06     -0.525      0.599   -3.55e-06    2.05e-06\n",
      "==============================================================================\n",
      "Omnibus:                      310.826   Durbin-Watson:                   2.027\n",
      "Prob(Omnibus):                  0.000   Jarque-Bera (JB):              418.418\n",
      "Skew:                           0.857   Prob(JB):                     1.39e-91\n",
      "Kurtosis:                       3.678   Cond. No.                     1.38e+06\n",
      "==============================================================================\n",
      "\n",
      "Notes:\n",
      "[1] Standard Errors assume that the covariance matrix of the errors is correctly specified.\n",
      "[2] The condition number is large, 1.38e+06. This might indicate that there are\n",
      "strong multicollinearity or other numerical problems.\n"
     ]
    }
   ],
   "source": [
    "X_train = sm.add_constant(X_train)\n",
    "ols_model = sm.OLS(y_train, X_train)\n",
    "results = ols_model.fit()\n",
    "print(results.summary())"
   ]
  },
  {
   "cell_type": "code",
   "execution_count": 234,
   "id": "445e77dc",
   "metadata": {},
   "outputs": [],
   "source": [
    "X_train = sm.add_constant(X_train)\n",
    "model_sm = sm.OLS(y_train, X_train).fit()"
   ]
  },
  {
   "cell_type": "code",
   "execution_count": 235,
   "id": "a2aadabe",
   "metadata": {},
   "outputs": [
    {
     "name": "stdout",
     "output_type": "stream",
     "text": [
      "R-squared: 0.2158865966074548\n",
      "Adjusted R-squared: 0.21375657717548868\n"
     ]
    }
   ],
   "source": [
    "r_squared = model_sm.rsquared\n",
    "adjusted_r_squared = model_sm.rsquared_adj\n",
    "\n",
    "print(\"R-squared:\", r_squared)\n",
    "print(\"Adjusted R-squared:\", adjusted_r_squared)"
   ]
  },
  {
   "cell_type": "code",
   "execution_count": 240,
   "id": "d7329418",
   "metadata": {},
   "outputs": [],
   "source": [
    "X_test_sm = sm.add_constant(X_test)"
   ]
  },
  {
   "cell_type": "code",
   "execution_count": 241,
   "id": "72d73a20",
   "metadata": {},
   "outputs": [],
   "source": [
    "y_pred_sm = model_sm.predict(X_test)"
   ]
  },
  {
   "cell_type": "code",
   "execution_count": 242,
   "id": "6d1b5258",
   "metadata": {},
   "outputs": [],
   "source": [
    "# Add a constant column to the test data\n",
    "X_test_sm = sm.add_constant(X_test)\n",
    "\n",
    "# Use the trained model to predict the target variable\n",
    "y_pred_sm = model_sm.predict(X_test)\n"
   ]
  },
  {
   "cell_type": "code",
   "execution_count": 243,
   "id": "8302e543",
   "metadata": {},
   "outputs": [
    {
     "data": {
      "text/plain": [
       "429      9.159530\n",
       "3857     7.672950\n",
       "603     11.941737\n",
       "1396    11.031815\n",
       "888     10.559127\n",
       "          ...    \n",
       "2200    15.845935\n",
       "3129     7.871210\n",
       "2173    10.172627\n",
       "1747    10.202511\n",
       "3941    12.336241\n",
       "Length: 739, dtype: float64"
      ]
     },
     "execution_count": 243,
     "metadata": {},
     "output_type": "execute_result"
    }
   ],
   "source": [
    "y_pred_sm"
   ]
  },
  {
   "cell_type": "code",
   "execution_count": 245,
   "id": "6ef114d8",
   "metadata": {},
   "outputs": [
    {
     "name": "stdout",
     "output_type": "stream",
     "text": [
      "RMSE: 4.398982989022776\n"
     ]
    }
   ],
   "source": [
    "rmse = np.sqrt(mean_squared_error(y_test, y_pred_sm))\n",
    "print(\"RMSE:\", rmse)"
   ]
  },
  {
   "cell_type": "code",
   "execution_count": null,
   "id": "db15ec36",
   "metadata": {},
   "outputs": [],
   "source": []
  },
  {
   "cell_type": "code",
   "execution_count": null,
   "id": "a79c57e6",
   "metadata": {},
   "outputs": [],
   "source": [
    "features = ['loan_number', 'total_credit_limit', 'total_credit_utilized', 'public_record_bankrupt', 'term', 'annual_income']\n",
    "target = 'interest_rate'\n",
    "X = train2_data[features]\n",
    "y = train2_data[target]"
   ]
  },
  {
   "cell_type": "code",
   "execution_count": null,
   "id": "bfd221df",
   "metadata": {},
   "outputs": [],
   "source": []
  }
 ],
 "metadata": {
  "kernelspec": {
   "display_name": "Python 3 (ipykernel)",
   "language": "python",
   "name": "python3"
  },
  "language_info": {
   "codemirror_mode": {
    "name": "ipython",
    "version": 3
   },
   "file_extension": ".py",
   "mimetype": "text/x-python",
   "name": "python",
   "nbconvert_exporter": "python",
   "pygments_lexer": "ipython3",
   "version": "3.9.12"
  }
 },
 "nbformat": 4,
 "nbformat_minor": 5
}
