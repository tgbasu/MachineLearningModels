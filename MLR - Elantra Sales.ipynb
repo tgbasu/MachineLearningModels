{
 "cells": [
  {
   "cell_type": "code",
   "execution_count": 1,
   "metadata": {},
   "outputs": [],
   "source": [
    "import numpy as np\n",
    "import pandas as pd\n",
    "import matplotlib.pyplot as plt\n",
    "import seaborn as sns\n",
    "from sklearn.linear_model import LinearRegression\n",
    "from sklearn.model_selection import train_test_split\n",
    "from sklearn import metrics"
   ]
  },
  {
   "cell_type": "code",
   "execution_count": 2,
   "metadata": {},
   "outputs": [
    {
     "data": {
      "text/html": [
       "<div>\n",
       "<style scoped>\n",
       "    .dataframe tbody tr th:only-of-type {\n",
       "        vertical-align: middle;\n",
       "    }\n",
       "\n",
       "    .dataframe tbody tr th {\n",
       "        vertical-align: top;\n",
       "    }\n",
       "\n",
       "    .dataframe thead th {\n",
       "        text-align: right;\n",
       "    }\n",
       "</style>\n",
       "<table border=\"1\" class=\"dataframe\">\n",
       "  <thead>\n",
       "    <tr style=\"text-align: right;\">\n",
       "      <th></th>\n",
       "      <th>Month</th>\n",
       "      <th>Year</th>\n",
       "      <th>ElantraSales</th>\n",
       "      <th>Unemployment</th>\n",
       "      <th>Queries</th>\n",
       "      <th>CPI_energy</th>\n",
       "      <th>CPI_all</th>\n",
       "    </tr>\n",
       "  </thead>\n",
       "  <tbody>\n",
       "    <tr>\n",
       "      <th>0</th>\n",
       "      <td>1</td>\n",
       "      <td>2010</td>\n",
       "      <td>7690</td>\n",
       "      <td>9.7</td>\n",
       "      <td>153</td>\n",
       "      <td>213.377</td>\n",
       "      <td>217.466</td>\n",
       "    </tr>\n",
       "    <tr>\n",
       "      <th>1</th>\n",
       "      <td>1</td>\n",
       "      <td>2011</td>\n",
       "      <td>9659</td>\n",
       "      <td>9.1</td>\n",
       "      <td>259</td>\n",
       "      <td>229.353</td>\n",
       "      <td>221.082</td>\n",
       "    </tr>\n",
       "    <tr>\n",
       "      <th>2</th>\n",
       "      <td>1</td>\n",
       "      <td>2012</td>\n",
       "      <td>10900</td>\n",
       "      <td>8.2</td>\n",
       "      <td>354</td>\n",
       "      <td>244.178</td>\n",
       "      <td>227.666</td>\n",
       "    </tr>\n",
       "    <tr>\n",
       "      <th>3</th>\n",
       "      <td>1</td>\n",
       "      <td>2013</td>\n",
       "      <td>12174</td>\n",
       "      <td>7.9</td>\n",
       "      <td>230</td>\n",
       "      <td>242.560</td>\n",
       "      <td>231.321</td>\n",
       "    </tr>\n",
       "    <tr>\n",
       "      <th>4</th>\n",
       "      <td>1</td>\n",
       "      <td>2014</td>\n",
       "      <td>15326</td>\n",
       "      <td>6.6</td>\n",
       "      <td>232</td>\n",
       "      <td>247.575</td>\n",
       "      <td>234.933</td>\n",
       "    </tr>\n",
       "  </tbody>\n",
       "</table>\n",
       "</div>"
      ],
      "text/plain": [
       "   Month  Year  ElantraSales  Unemployment  Queries  CPI_energy  CPI_all\n",
       "0      1  2010          7690           9.7      153     213.377  217.466\n",
       "1      1  2011          9659           9.1      259     229.353  221.082\n",
       "2      1  2012         10900           8.2      354     244.178  227.666\n",
       "3      1  2013         12174           7.9      230     242.560  231.321\n",
       "4      1  2014         15326           6.6      232     247.575  234.933"
      ]
     },
     "execution_count": 2,
     "metadata": {},
     "output_type": "execute_result"
    }
   ],
   "source": [
    "df = pd.read_csv('elantra.csv')\n",
    "df.head()"
   ]
  },
  {
   "cell_type": "code",
   "execution_count": 3,
   "metadata": {},
   "outputs": [
    {
     "data": {
      "text/plain": [
       "(50, 7)"
      ]
     },
     "execution_count": 3,
     "metadata": {},
     "output_type": "execute_result"
    }
   ],
   "source": [
    "df.shape"
   ]
  },
  {
   "cell_type": "code",
   "execution_count": 4,
   "metadata": {},
   "outputs": [
    {
     "name": "stdout",
     "output_type": "stream",
     "text": [
      "<class 'pandas.core.frame.DataFrame'>\n",
      "RangeIndex: 50 entries, 0 to 49\n",
      "Data columns (total 7 columns):\n",
      " #   Column        Non-Null Count  Dtype  \n",
      "---  ------        --------------  -----  \n",
      " 0   Month         50 non-null     int64  \n",
      " 1   Year          50 non-null     int64  \n",
      " 2   ElantraSales  50 non-null     int64  \n",
      " 3   Unemployment  50 non-null     float64\n",
      " 4   Queries       50 non-null     int64  \n",
      " 5   CPI_energy    50 non-null     float64\n",
      " 6   CPI_all       50 non-null     float64\n",
      "dtypes: float64(3), int64(4)\n",
      "memory usage: 2.9 KB\n"
     ]
    }
   ],
   "source": [
    "df.info()"
   ]
  },
  {
   "cell_type": "code",
   "execution_count": 5,
   "metadata": {},
   "outputs": [
    {
     "data": {
      "text/plain": [
       "Month           0\n",
       "Year            0\n",
       "ElantraSales    0\n",
       "Unemployment    0\n",
       "Queries         0\n",
       "CPI_energy      0\n",
       "CPI_all         0\n",
       "dtype: int64"
      ]
     },
     "execution_count": 5,
     "metadata": {},
     "output_type": "execute_result"
    }
   ],
   "source": [
    "df.isnull().sum()"
   ]
  },
  {
   "cell_type": "code",
   "execution_count": 6,
   "metadata": {},
   "outputs": [
    {
     "data": {
      "image/png": "[encoded data removed]",
      "text/plain": [
       "<Figure size 432x288 with 2 Axes>"
      ]
     },
     "metadata": {
      "needs_background": "light"
     },
     "output_type": "display_data"
    }
   ],
   "source": [
    "sns.heatmap(df.corr(), annot = True);"
   ]
  },
  {
   "cell_type": "code",
   "execution_count": 7,
   "metadata": {
    "scrolled": true
   },
   "outputs": [
    {
     "data": {
      "image/png": "[encoded data removed]",
      "text/plain": [
       "<Figure size 1260x1260 with 56 Axes>"
      ]
     },
     "metadata": {
      "needs_background": "light"
     },
     "output_type": "display_data"
    }
   ],
   "source": [
    "sns.pairplot(df);"
   ]
  },
  {
   "cell_type": "code",
   "execution_count": 8,
   "metadata": {},
   "outputs": [],
   "source": [
    "X = df.drop('ElantraSales',axis=1)\n",
    "y = df[['ElantraSales']]"
   ]
  },
  {
   "cell_type": "code",
   "execution_count": 9,
   "metadata": {},
   "outputs": [
    {
     "name": "stdout",
     "output_type": "stream",
     "text": [
      "(50, 6) (50, 1)\n"
     ]
    }
   ],
   "source": [
    "print(X.shape, y.shape)"
   ]
  },
  {
   "cell_type": "code",
   "execution_count": 10,
   "metadata": {},
   "outputs": [],
   "source": [
    "X_train,X_test,y_train,y_test = train_test_split(X,y,test_size=0.3,random_state = 0)"
   ]
  },
  {
   "cell_type": "code",
   "execution_count": 11,
   "metadata": {},
   "outputs": [
    {
     "name": "stdout",
     "output_type": "stream",
     "text": [
      "(35, 6) (15, 6) (35, 1) (15, 1)\n"
     ]
    }
   ],
   "source": [
    "print(X_train.shape, X_test.shape, y_train.shape, y_test.shape)"
   ]
  },
  {
   "cell_type": "code",
   "execution_count": 12,
   "metadata": {
    "ExecuteTime": {
     "end_time": "2020-04-24T06:10:41.934742Z",
     "start_time": "2020-04-24T06:10:41.917762Z"
    }
   },
   "outputs": [
    {
     "data": {
      "text/html": [
       "<div>\n",
       "<style scoped>\n",
       "    .dataframe tbody tr th:only-of-type {\n",
       "        vertical-align: middle;\n",
       "    }\n",
       "\n",
       "    .dataframe tbody tr th {\n",
       "        vertical-align: top;\n",
       "    }\n",
       "\n",
       "    .dataframe thead th {\n",
       "        text-align: right;\n",
       "    }\n",
       "</style>\n",
       "<table border=\"1\" class=\"dataframe\">\n",
       "  <thead>\n",
       "    <tr style=\"text-align: right;\">\n",
       "      <th></th>\n",
       "      <th>Month</th>\n",
       "      <th>Year</th>\n",
       "      <th>Unemployment</th>\n",
       "      <th>Queries</th>\n",
       "      <th>CPI_energy</th>\n",
       "      <th>CPI_all</th>\n",
       "      <th>ElantraSales</th>\n",
       "    </tr>\n",
       "  </thead>\n",
       "  <tbody>\n",
       "    <tr>\n",
       "      <th>7</th>\n",
       "      <td>2</td>\n",
       "      <td>2012</td>\n",
       "      <td>8.3</td>\n",
       "      <td>296</td>\n",
       "      <td>247.615</td>\n",
       "      <td>228.138</td>\n",
       "      <td>13820</td>\n",
       "    </tr>\n",
       "    <tr>\n",
       "      <th>14</th>\n",
       "      <td>4</td>\n",
       "      <td>2010</td>\n",
       "      <td>9.9</td>\n",
       "      <td>132</td>\n",
       "      <td>209.024</td>\n",
       "      <td>217.376</td>\n",
       "      <td>9657</td>\n",
       "    </tr>\n",
       "    <tr>\n",
       "      <th>45</th>\n",
       "      <td>11</td>\n",
       "      <td>2013</td>\n",
       "      <td>7.0</td>\n",
       "      <td>231</td>\n",
       "      <td>242.301</td>\n",
       "      <td>234.033</td>\n",
       "      <td>16751</td>\n",
       "    </tr>\n",
       "    <tr>\n",
       "      <th>48</th>\n",
       "      <td>12</td>\n",
       "      <td>2012</td>\n",
       "      <td>7.9</td>\n",
       "      <td>275</td>\n",
       "      <td>244.698</td>\n",
       "      <td>231.099</td>\n",
       "      <td>19024</td>\n",
       "    </tr>\n",
       "    <tr>\n",
       "      <th>29</th>\n",
       "      <td>7</td>\n",
       "      <td>2013</td>\n",
       "      <td>7.3</td>\n",
       "      <td>274</td>\n",
       "      <td>245.926</td>\n",
       "      <td>233.252</td>\n",
       "      <td>23958</td>\n",
       "    </tr>\n",
       "  </tbody>\n",
       "</table>\n",
       "</div>"
      ],
      "text/plain": [
       "    Month  Year  Unemployment  Queries  CPI_energy  CPI_all  ElantraSales\n",
       "7       2  2012           8.3      296     247.615  228.138         13820\n",
       "14      4  2010           9.9      132     209.024  217.376          9657\n",
       "45     11  2013           7.0      231     242.301  234.033         16751\n",
       "48     12  2012           7.9      275     244.698  231.099         19024\n",
       "29      7  2013           7.3      274     245.926  233.252         23958"
      ]
     },
     "execution_count": 12,
     "metadata": {},
     "output_type": "execute_result"
    }
   ],
   "source": [
    "# concatenate X and y into a single dataframe\n",
    "data_train = pd.concat([X_train, y_train], axis=1)\n",
    "data_test=pd.concat([X_test,y_test],axis=1)\n",
    "data_train.head()"
   ]
  },
  {
   "cell_type": "code",
   "execution_count": 13,
   "metadata": {},
   "outputs": [
    {
     "data": {
      "text/plain": [
       "(35, 7)"
      ]
     },
     "execution_count": 13,
     "metadata": {},
     "output_type": "execute_result"
    }
   ],
   "source": [
    "data_train.shape"
   ]
  },
  {
   "cell_type": "code",
   "execution_count": 14,
   "metadata": {},
   "outputs": [
    {
     "data": {
      "text/plain": [
       "Index(['Month', 'Year', 'Unemployment', 'Queries', 'CPI_energy', 'CPI_all',\n",
       "       'ElantraSales'],\n",
       "      dtype='object')"
      ]
     },
     "execution_count": 14,
     "metadata": {},
     "output_type": "execute_result"
    }
   ],
   "source": [
    "data_train.columns"
   ]
  },
  {
   "cell_type": "markdown",
   "metadata": {},
   "source": [
    "### Building Model 1 without the Month & Year variables"
   ]
  },
  {
   "cell_type": "code",
   "execution_count": 15,
   "metadata": {},
   "outputs": [],
   "source": [
    "expr1= 'ElantraSales ~  Unemployment  + Queries  + CPI_energy  + CPI_all'"
   ]
  },
  {
   "cell_type": "code",
   "execution_count": 16,
   "metadata": {},
   "outputs": [
    {
     "data": {
      "text/plain": [
       "Intercept      -59688.052439\n",
       "Unemployment    -1172.793091\n",
       "Queries            45.096850\n",
       "CPI_energy       -195.978158\n",
       "CPI_all           531.509647\n",
       "dtype: float64"
      ]
     },
     "execution_count": 16,
     "metadata": {},
     "output_type": "execute_result"
    }
   ],
   "source": [
    "import statsmodels.formula.api as smf\n",
    "lm1 = smf.ols(formula= expr1, data = data_train).fit()\n",
    "lm1.params"
   ]
  },
  {
   "cell_type": "code",
   "execution_count": 17,
   "metadata": {},
   "outputs": [
    {
     "name": "stdout",
     "output_type": "stream",
     "text": [
      "                            OLS Regression Results                            \n",
      "==============================================================================\n",
      "Dep. Variable:           ElantraSales   R-squared:                       0.578\n",
      "Model:                            OLS   Adj. R-squared:                  0.522\n",
      "Method:                 Least Squares   F-statistic:                     10.29\n",
      "Date:                Thu, 13 Apr 2023   Prob (F-statistic):           2.29e-05\n",
      "Time:                        18:00:49   Log-Likelihood:                -332.09\n",
      "No. Observations:                  35   AIC:                             674.2\n",
      "Df Residuals:                      30   BIC:                             682.0\n",
      "Df Model:                           4                                         \n",
      "Covariance Type:            nonrobust                                         \n",
      "================================================================================\n",
      "                   coef    std err          t      P>|t|      [0.025      0.975]\n",
      "--------------------------------------------------------------------------------\n",
      "Intercept    -5.969e+04   1.89e+05     -0.315      0.755   -4.46e+05    3.27e+05\n",
      "Unemployment -1172.7931   3849.260     -0.305      0.763   -9034.032    6688.446\n",
      "Queries         45.0968     15.044      2.998      0.005      14.373      75.820\n",
      "CPI_energy    -195.9782    137.243     -1.428      0.164    -476.265      84.309\n",
      "CPI_all        531.5096    786.406      0.676      0.504   -1074.546    2137.565\n",
      "==============================================================================\n",
      "Omnibus:                        2.344   Durbin-Watson:                   1.957\n",
      "Prob(Omnibus):                  0.310   Jarque-Bera (JB):                1.991\n",
      "Skew:                           0.573   Prob(JB):                        0.370\n",
      "Kurtosis:                       2.769   Cond. No.                     1.39e+05\n",
      "==============================================================================\n",
      "\n",
      "Warnings:\n",
      "[1] Standard Errors assume that the covariance matrix of the errors is correctly specified.\n",
      "[2] The condition number is large, 1.39e+05. This might indicate that there are\n",
      "strong multicollinearity or other numerical problems.\n"
     ]
    }
   ],
   "source": [
    "print(lm1.summary())"
   ]
  },
  {
   "cell_type": "code",
   "execution_count": 18,
   "metadata": {
    "ExecuteTime": {
     "end_time": "2020-04-24T06:10:51.653061Z",
     "start_time": "2020-04-24T06:10:51.553330Z"
    }
   },
   "outputs": [],
   "source": [
    "# Calculate MSE\n",
    "mse_train_1 = np.mean((lm1.predict(data_train.drop('ElantraSales',axis=1))-data_train['ElantraSales'])**2)"
   ]
  },
  {
   "cell_type": "code",
   "execution_count": 19,
   "metadata": {
    "ExecuteTime": {
     "end_time": "2020-04-24T06:11:47.478172Z",
     "start_time": "2020-04-24T06:11:47.473185Z"
    }
   },
   "outputs": [
    {
     "data": {
      "text/plain": [
       "3195.4538455070174"
      ]
     },
     "execution_count": 19,
     "metadata": {},
     "output_type": "execute_result"
    }
   ],
   "source": [
    "#Root Mean Squared Error - RMSE\n",
    "train_rmse_1 = np.sqrt(mse_train_1)\n",
    "train_rmse_1"
   ]
  },
  {
   "cell_type": "code",
   "execution_count": 20,
   "metadata": {},
   "outputs": [],
   "source": [
    "mse_test_1 = np.mean((lm1.predict(data_test.drop('ElantraSales',axis=1))-data_test['ElantraSales'])**2)"
   ]
  },
  {
   "cell_type": "code",
   "execution_count": 21,
   "metadata": {},
   "outputs": [
    {
     "data": {
      "text/plain": [
       "4558.707026887796"
      ]
     },
     "execution_count": 21,
     "metadata": {},
     "output_type": "execute_result"
    }
   ],
   "source": [
    "test_rmse_1 = np.sqrt(mse_test_1)\n",
    "test_rmse_1"
   ]
  },
  {
   "cell_type": "code",
   "execution_count": 22,
   "metadata": {},
   "outputs": [],
   "source": [
    "R_squared_1 = 0.578\n",
    "Adj_R_squared_1 = 0.522"
   ]
  },
  {
   "cell_type": "markdown",
   "metadata": {},
   "source": [
    "### Building Model 2 Including Month & Year Variables"
   ]
  },
  {
   "cell_type": "code",
   "execution_count": 23,
   "metadata": {},
   "outputs": [
    {
     "data": {
      "text/plain": [
       "(35, 7)"
      ]
     },
     "execution_count": 23,
     "metadata": {},
     "output_type": "execute_result"
    }
   ],
   "source": [
    "data_train.shape"
   ]
  },
  {
   "cell_type": "code",
   "execution_count": 24,
   "metadata": {},
   "outputs": [
    {
     "data": {
      "text/plain": [
       "(15, 7)"
      ]
     },
     "execution_count": 24,
     "metadata": {},
     "output_type": "execute_result"
    }
   ],
   "source": [
    "data_test.shape"
   ]
  },
  {
   "cell_type": "code",
   "execution_count": 25,
   "metadata": {},
   "outputs": [
    {
     "data": {
      "text/plain": [
       "Index(['Month', 'Year', 'Unemployment', 'Queries', 'CPI_energy', 'CPI_all',\n",
       "       'ElantraSales'],\n",
       "      dtype='object')"
      ]
     },
     "execution_count": 25,
     "metadata": {},
     "output_type": "execute_result"
    }
   ],
   "source": [
    "data_train.columns"
   ]
  },
  {
   "cell_type": "code",
   "execution_count": 26,
   "metadata": {},
   "outputs": [],
   "source": [
    "expr2= 'ElantraSales ~  Unemployment  + Queries  + CPI_energy  + CPI_all  + Month + Year'"
   ]
  },
  {
   "cell_type": "code",
   "execution_count": 27,
   "metadata": {},
   "outputs": [
    {
     "data": {
      "text/plain": [
       "Intercept      -1.410497e+07\n",
       "Unemployment    1.257666e+03\n",
       "Queries         4.391239e+01\n",
       "CPI_energy     -6.803634e+01\n",
       "CPI_all        -7.718199e+02\n",
       "Month           4.987213e+02\n",
       "Year            7.102391e+03\n",
       "dtype: float64"
      ]
     },
     "execution_count": 27,
     "metadata": {},
     "output_type": "execute_result"
    }
   ],
   "source": [
    "import statsmodels.formula.api as smf\n",
    "lm2 = smf.ols(formula= expr2, data = data_train).fit()\n",
    "lm2.params"
   ]
  },
  {
   "cell_type": "code",
   "execution_count": 28,
   "metadata": {},
   "outputs": [
    {
     "name": "stdout",
     "output_type": "stream",
     "text": [
      "                            OLS Regression Results                            \n",
      "==============================================================================\n",
      "Dep. Variable:           ElantraSales   R-squared:                       0.600\n",
      "Model:                            OLS   Adj. R-squared:                  0.514\n",
      "Method:                 Least Squares   F-statistic:                     7.000\n",
      "Date:                Thu, 13 Apr 2023   Prob (F-statistic):           0.000127\n",
      "Time:                        18:00:50   Log-Likelihood:                -331.17\n",
      "No. Observations:                  35   AIC:                             676.3\n",
      "Df Residuals:                      28   BIC:                             687.2\n",
      "Df Model:                           6                                         \n",
      "Covariance Type:            nonrobust                                         \n",
      "================================================================================\n",
      "                   coef    std err          t      P>|t|      [0.025      0.975]\n",
      "--------------------------------------------------------------------------------\n",
      "Intercept     -1.41e+07   1.16e+07     -1.217      0.234   -3.78e+07    9.64e+06\n",
      "Unemployment  1257.6659   4359.332      0.288      0.775   -7672.020    1.02e+04\n",
      "Queries         43.9124     15.250      2.879      0.008      12.674      75.151\n",
      "CPI_energy     -68.0363    173.939     -0.391      0.699    -424.334     288.261\n",
      "CPI_all       -771.8199   1357.116     -0.569      0.574   -3551.746    2008.106\n",
      "Month          498.7213    469.181      1.063      0.297    -462.353    1459.795\n",
      "Year          7102.3908   5863.022      1.211      0.236   -4907.466    1.91e+04\n",
      "==============================================================================\n",
      "Omnibus:                        0.422   Durbin-Watson:                   2.016\n",
      "Prob(Omnibus):                  0.810   Jarque-Bera (JB):                0.540\n",
      "Skew:                           0.222   Prob(JB):                        0.764\n",
      "Kurtosis:                       2.584   Cond. No.                     4.05e+07\n",
      "==============================================================================\n",
      "\n",
      "Warnings:\n",
      "[1] Standard Errors assume that the covariance matrix of the errors is correctly specified.\n",
      "[2] The condition number is large, 4.05e+07. This might indicate that there are\n",
      "strong multicollinearity or other numerical problems.\n"
     ]
    }
   ],
   "source": [
    "print(lm2.summary())"
   ]
  },
  {
   "cell_type": "code",
   "execution_count": 29,
   "metadata": {
    "ExecuteTime": {
     "end_time": "2020-04-24T06:10:51.653061Z",
     "start_time": "2020-04-24T06:10:51.553330Z"
    }
   },
   "outputs": [],
   "source": [
    "# Calculate MSE\n",
    "mse_train_2 = np.mean((lm2.predict(data_train.drop('ElantraSales',axis=1))-data_train['ElantraSales'])**2)"
   ]
  },
  {
   "cell_type": "code",
   "execution_count": 30,
   "metadata": {
    "ExecuteTime": {
     "end_time": "2020-04-24T06:11:47.478172Z",
     "start_time": "2020-04-24T06:11:47.473185Z"
    }
   },
   "outputs": [
    {
     "data": {
      "text/plain": [
       "3112.456125538256"
      ]
     },
     "execution_count": 30,
     "metadata": {},
     "output_type": "execute_result"
    }
   ],
   "source": [
    "#Root Mean Squared Error - RMSE\n",
    "train_rmse_2 = np.sqrt(mse_train_2)\n",
    "train_rmse_2"
   ]
  },
  {
   "cell_type": "code",
   "execution_count": 31,
   "metadata": {
    "ExecuteTime": {
     "end_time": "2020-04-24T06:10:51.653061Z",
     "start_time": "2020-04-24T06:10:51.553330Z"
    }
   },
   "outputs": [],
   "source": [
    "# Calculate MSE\n",
    "mse_test_2 = np.mean((lm2.predict(data_test.drop('ElantraSales',axis=1))-data_test['ElantraSales'])**2)"
   ]
  },
  {
   "cell_type": "code",
   "execution_count": 32,
   "metadata": {
    "ExecuteTime": {
     "end_time": "2020-04-24T06:11:47.478172Z",
     "start_time": "2020-04-24T06:11:47.473185Z"
    }
   },
   "outputs": [
    {
     "data": {
      "text/plain": [
       "4519.834105702944"
      ]
     },
     "execution_count": 32,
     "metadata": {},
     "output_type": "execute_result"
    }
   ],
   "source": [
    "#Root Mean Squared Error - RMSE\n",
    "test_rmse_2 = np.sqrt(mse_test_2)\n",
    "test_rmse_2"
   ]
  },
  {
   "cell_type": "code",
   "execution_count": 33,
   "metadata": {},
   "outputs": [],
   "source": [
    "R_squared_2 = 0.600\n",
    "Adj_R_squared_2 = 0.514"
   ]
  },
  {
   "cell_type": "markdown",
   "metadata": {},
   "source": [
    "### Building Model 3 Including Month & Year factors in the model"
   ]
  },
  {
   "cell_type": "code",
   "execution_count": 34,
   "metadata": {
    "ExecuteTime": {
     "end_time": "2020-04-24T05:38:51.309812Z",
     "start_time": "2020-04-24T05:38:51.234439Z"
    }
   },
   "outputs": [],
   "source": [
    "df_dummies = pd.get_dummies(df, columns=['Month','Year'],drop_first=True)"
   ]
  },
  {
   "cell_type": "code",
   "execution_count": 35,
   "metadata": {
    "ExecuteTime": {
     "end_time": "2020-04-24T05:38:51.546042Z",
     "start_time": "2020-04-24T05:38:51.524037Z"
    }
   },
   "outputs": [
    {
     "data": {
      "text/html": [
       "<div>\n",
       "<style scoped>\n",
       "    .dataframe tbody tr th:only-of-type {\n",
       "        vertical-align: middle;\n",
       "    }\n",
       "\n",
       "    .dataframe tbody tr th {\n",
       "        vertical-align: top;\n",
       "    }\n",
       "\n",
       "    .dataframe thead th {\n",
       "        text-align: right;\n",
       "    }\n",
       "</style>\n",
       "<table border=\"1\" class=\"dataframe\">\n",
       "  <thead>\n",
       "    <tr style=\"text-align: right;\">\n",
       "      <th></th>\n",
       "      <th>ElantraSales</th>\n",
       "      <th>Unemployment</th>\n",
       "      <th>Queries</th>\n",
       "      <th>CPI_energy</th>\n",
       "      <th>CPI_all</th>\n",
       "      <th>Month_2</th>\n",
       "      <th>Month_3</th>\n",
       "      <th>Month_4</th>\n",
       "      <th>Month_5</th>\n",
       "      <th>Month_6</th>\n",
       "      <th>Month_7</th>\n",
       "      <th>Month_8</th>\n",
       "      <th>Month_9</th>\n",
       "      <th>Month_10</th>\n",
       "      <th>Month_11</th>\n",
       "      <th>Month_12</th>\n",
       "      <th>Year_2011</th>\n",
       "      <th>Year_2012</th>\n",
       "      <th>Year_2013</th>\n",
       "      <th>Year_2014</th>\n",
       "    </tr>\n",
       "  </thead>\n",
       "  <tbody>\n",
       "    <tr>\n",
       "      <th>0</th>\n",
       "      <td>7690</td>\n",
       "      <td>9.7</td>\n",
       "      <td>153</td>\n",
       "      <td>213.377</td>\n",
       "      <td>217.466</td>\n",
       "      <td>0</td>\n",
       "      <td>0</td>\n",
       "      <td>0</td>\n",
       "      <td>0</td>\n",
       "      <td>0</td>\n",
       "      <td>0</td>\n",
       "      <td>0</td>\n",
       "      <td>0</td>\n",
       "      <td>0</td>\n",
       "      <td>0</td>\n",
       "      <td>0</td>\n",
       "      <td>0</td>\n",
       "      <td>0</td>\n",
       "      <td>0</td>\n",
       "      <td>0</td>\n",
       "    </tr>\n",
       "    <tr>\n",
       "      <th>1</th>\n",
       "      <td>9659</td>\n",
       "      <td>9.1</td>\n",
       "      <td>259</td>\n",
       "      <td>229.353</td>\n",
       "      <td>221.082</td>\n",
       "      <td>0</td>\n",
       "      <td>0</td>\n",
       "      <td>0</td>\n",
       "      <td>0</td>\n",
       "      <td>0</td>\n",
       "      <td>0</td>\n",
       "      <td>0</td>\n",
       "      <td>0</td>\n",
       "      <td>0</td>\n",
       "      <td>0</td>\n",
       "      <td>0</td>\n",
       "      <td>1</td>\n",
       "      <td>0</td>\n",
       "      <td>0</td>\n",
       "      <td>0</td>\n",
       "    </tr>\n",
       "    <tr>\n",
       "      <th>2</th>\n",
       "      <td>10900</td>\n",
       "      <td>8.2</td>\n",
       "      <td>354</td>\n",
       "      <td>244.178</td>\n",
       "      <td>227.666</td>\n",
       "      <td>0</td>\n",
       "      <td>0</td>\n",
       "      <td>0</td>\n",
       "      <td>0</td>\n",
       "      <td>0</td>\n",
       "      <td>0</td>\n",
       "      <td>0</td>\n",
       "      <td>0</td>\n",
       "      <td>0</td>\n",
       "      <td>0</td>\n",
       "      <td>0</td>\n",
       "      <td>0</td>\n",
       "      <td>1</td>\n",
       "      <td>0</td>\n",
       "      <td>0</td>\n",
       "    </tr>\n",
       "    <tr>\n",
       "      <th>3</th>\n",
       "      <td>12174</td>\n",
       "      <td>7.9</td>\n",
       "      <td>230</td>\n",
       "      <td>242.560</td>\n",
       "      <td>231.321</td>\n",
       "      <td>0</td>\n",
       "      <td>0</td>\n",
       "      <td>0</td>\n",
       "      <td>0</td>\n",
       "      <td>0</td>\n",
       "      <td>0</td>\n",
       "      <td>0</td>\n",
       "      <td>0</td>\n",
       "      <td>0</td>\n",
       "      <td>0</td>\n",
       "      <td>0</td>\n",
       "      <td>0</td>\n",
       "      <td>0</td>\n",
       "      <td>1</td>\n",
       "      <td>0</td>\n",
       "    </tr>\n",
       "    <tr>\n",
       "      <th>4</th>\n",
       "      <td>15326</td>\n",
       "      <td>6.6</td>\n",
       "      <td>232</td>\n",
       "      <td>247.575</td>\n",
       "      <td>234.933</td>\n",
       "      <td>0</td>\n",
       "      <td>0</td>\n",
       "      <td>0</td>\n",
       "      <td>0</td>\n",
       "      <td>0</td>\n",
       "      <td>0</td>\n",
       "      <td>0</td>\n",
       "      <td>0</td>\n",
       "      <td>0</td>\n",
       "      <td>0</td>\n",
       "      <td>0</td>\n",
       "      <td>0</td>\n",
       "      <td>0</td>\n",
       "      <td>0</td>\n",
       "      <td>1</td>\n",
       "    </tr>\n",
       "  </tbody>\n",
       "</table>\n",
       "</div>"
      ],
      "text/plain": [
       "   ElantraSales  Unemployment  Queries  CPI_energy  CPI_all  Month_2  Month_3  \\\n",
       "0          7690           9.7      153     213.377  217.466        0        0   \n",
       "1          9659           9.1      259     229.353  221.082        0        0   \n",
       "2         10900           8.2      354     244.178  227.666        0        0   \n",
       "3         12174           7.9      230     242.560  231.321        0        0   \n",
       "4         15326           6.6      232     247.575  234.933        0        0   \n",
       "\n",
       "   Month_4  Month_5  Month_6  Month_7  Month_8  Month_9  Month_10  Month_11  \\\n",
       "0        0        0        0        0        0        0         0         0   \n",
       "1        0        0        0        0        0        0         0         0   \n",
       "2        0        0        0        0        0        0         0         0   \n",
       "3        0        0        0        0        0        0         0         0   \n",
       "4        0        0        0        0        0        0         0         0   \n",
       "\n",
       "   Month_12  Year_2011  Year_2012  Year_2013  Year_2014  \n",
       "0         0          0          0          0          0  \n",
       "1         0          1          0          0          0  \n",
       "2         0          0          1          0          0  \n",
       "3         0          0          0          1          0  \n",
       "4         0          0          0          0          1  "
      ]
     },
     "execution_count": 35,
     "metadata": {},
     "output_type": "execute_result"
    }
   ],
   "source": [
    "df_dummies.head()"
   ]
  },
  {
   "cell_type": "code",
   "execution_count": 36,
   "metadata": {},
   "outputs": [],
   "source": [
    "X = df_dummies.drop('ElantraSales',axis=1)\n",
    "y = df_dummies[['ElantraSales']]"
   ]
  },
  {
   "cell_type": "code",
   "execution_count": 37,
   "metadata": {},
   "outputs": [
    {
     "name": "stdout",
     "output_type": "stream",
     "text": [
      "(50, 19) (50, 1)\n"
     ]
    }
   ],
   "source": [
    "print(X.shape, y.shape)"
   ]
  },
  {
   "cell_type": "code",
   "execution_count": 38,
   "metadata": {},
   "outputs": [],
   "source": [
    "X_train,X_test,y_train,y_test = train_test_split(X,y,test_size=0.3,random_state = 0)"
   ]
  },
  {
   "cell_type": "code",
   "execution_count": 39,
   "metadata": {},
   "outputs": [
    {
     "name": "stdout",
     "output_type": "stream",
     "text": [
      "(35, 19) (15, 19) (35, 1) (15, 1)\n"
     ]
    }
   ],
   "source": [
    "print(X_train.shape, X_test.shape, y_train.shape, y_test.shape)"
   ]
  },
  {
   "cell_type": "code",
   "execution_count": 40,
   "metadata": {
    "ExecuteTime": {
     "end_time": "2020-04-24T06:10:41.934742Z",
     "start_time": "2020-04-24T06:10:41.917762Z"
    }
   },
   "outputs": [
    {
     "data": {
      "text/html": [
       "<div>\n",
       "<style scoped>\n",
       "    .dataframe tbody tr th:only-of-type {\n",
       "        vertical-align: middle;\n",
       "    }\n",
       "\n",
       "    .dataframe tbody tr th {\n",
       "        vertical-align: top;\n",
       "    }\n",
       "\n",
       "    .dataframe thead th {\n",
       "        text-align: right;\n",
       "    }\n",
       "</style>\n",
       "<table border=\"1\" class=\"dataframe\">\n",
       "  <thead>\n",
       "    <tr style=\"text-align: right;\">\n",
       "      <th></th>\n",
       "      <th>Unemployment</th>\n",
       "      <th>Queries</th>\n",
       "      <th>CPI_energy</th>\n",
       "      <th>CPI_all</th>\n",
       "      <th>Month_2</th>\n",
       "      <th>Month_3</th>\n",
       "      <th>Month_4</th>\n",
       "      <th>Month_5</th>\n",
       "      <th>Month_6</th>\n",
       "      <th>Month_7</th>\n",
       "      <th>Month_8</th>\n",
       "      <th>Month_9</th>\n",
       "      <th>Month_10</th>\n",
       "      <th>Month_11</th>\n",
       "      <th>Month_12</th>\n",
       "      <th>Year_2011</th>\n",
       "      <th>Year_2012</th>\n",
       "      <th>Year_2013</th>\n",
       "      <th>Year_2014</th>\n",
       "      <th>ElantraSales</th>\n",
       "    </tr>\n",
       "  </thead>\n",
       "  <tbody>\n",
       "    <tr>\n",
       "      <th>7</th>\n",
       "      <td>8.3</td>\n",
       "      <td>296</td>\n",
       "      <td>247.615</td>\n",
       "      <td>228.138</td>\n",
       "      <td>1</td>\n",
       "      <td>0</td>\n",
       "      <td>0</td>\n",
       "      <td>0</td>\n",
       "      <td>0</td>\n",
       "      <td>0</td>\n",
       "      <td>0</td>\n",
       "      <td>0</td>\n",
       "      <td>0</td>\n",
       "      <td>0</td>\n",
       "      <td>0</td>\n",
       "      <td>0</td>\n",
       "      <td>1</td>\n",
       "      <td>0</td>\n",
       "      <td>0</td>\n",
       "      <td>13820</td>\n",
       "    </tr>\n",
       "    <tr>\n",
       "      <th>14</th>\n",
       "      <td>9.9</td>\n",
       "      <td>132</td>\n",
       "      <td>209.024</td>\n",
       "      <td>217.376</td>\n",
       "      <td>0</td>\n",
       "      <td>0</td>\n",
       "      <td>1</td>\n",
       "      <td>0</td>\n",
       "      <td>0</td>\n",
       "      <td>0</td>\n",
       "      <td>0</td>\n",
       "      <td>0</td>\n",
       "      <td>0</td>\n",
       "      <td>0</td>\n",
       "      <td>0</td>\n",
       "      <td>0</td>\n",
       "      <td>0</td>\n",
       "      <td>0</td>\n",
       "      <td>0</td>\n",
       "      <td>9657</td>\n",
       "    </tr>\n",
       "    <tr>\n",
       "      <th>45</th>\n",
       "      <td>7.0</td>\n",
       "      <td>231</td>\n",
       "      <td>242.301</td>\n",
       "      <td>234.033</td>\n",
       "      <td>0</td>\n",
       "      <td>0</td>\n",
       "      <td>0</td>\n",
       "      <td>0</td>\n",
       "      <td>0</td>\n",
       "      <td>0</td>\n",
       "      <td>0</td>\n",
       "      <td>0</td>\n",
       "      <td>0</td>\n",
       "      <td>1</td>\n",
       "      <td>0</td>\n",
       "      <td>0</td>\n",
       "      <td>0</td>\n",
       "      <td>1</td>\n",
       "      <td>0</td>\n",
       "      <td>16751</td>\n",
       "    </tr>\n",
       "    <tr>\n",
       "      <th>48</th>\n",
       "      <td>7.9</td>\n",
       "      <td>275</td>\n",
       "      <td>244.698</td>\n",
       "      <td>231.099</td>\n",
       "      <td>0</td>\n",
       "      <td>0</td>\n",
       "      <td>0</td>\n",
       "      <td>0</td>\n",
       "      <td>0</td>\n",
       "      <td>0</td>\n",
       "      <td>0</td>\n",
       "      <td>0</td>\n",
       "      <td>0</td>\n",
       "      <td>0</td>\n",
       "      <td>1</td>\n",
       "      <td>0</td>\n",
       "      <td>1</td>\n",
       "      <td>0</td>\n",
       "      <td>0</td>\n",
       "      <td>19024</td>\n",
       "    </tr>\n",
       "    <tr>\n",
       "      <th>29</th>\n",
       "      <td>7.3</td>\n",
       "      <td>274</td>\n",
       "      <td>245.926</td>\n",
       "      <td>233.252</td>\n",
       "      <td>0</td>\n",
       "      <td>0</td>\n",
       "      <td>0</td>\n",
       "      <td>0</td>\n",
       "      <td>0</td>\n",
       "      <td>1</td>\n",
       "      <td>0</td>\n",
       "      <td>0</td>\n",
       "      <td>0</td>\n",
       "      <td>0</td>\n",
       "      <td>0</td>\n",
       "      <td>0</td>\n",
       "      <td>0</td>\n",
       "      <td>1</td>\n",
       "      <td>0</td>\n",
       "      <td>23958</td>\n",
       "    </tr>\n",
       "  </tbody>\n",
       "</table>\n",
       "</div>"
      ],
      "text/plain": [
       "    Unemployment  Queries  CPI_energy  CPI_all  Month_2  Month_3  Month_4  \\\n",
       "7            8.3      296     247.615  228.138        1        0        0   \n",
       "14           9.9      132     209.024  217.376        0        0        1   \n",
       "45           7.0      231     242.301  234.033        0        0        0   \n",
       "48           7.9      275     244.698  231.099        0        0        0   \n",
       "29           7.3      274     245.926  233.252        0        0        0   \n",
       "\n",
       "    Month_5  Month_6  Month_7  Month_8  Month_9  Month_10  Month_11  Month_12  \\\n",
       "7         0        0        0        0        0         0         0         0   \n",
       "14        0        0        0        0        0         0         0         0   \n",
       "45        0        0        0        0        0         0         1         0   \n",
       "48        0        0        0        0        0         0         0         1   \n",
       "29        0        0        1        0        0         0         0         0   \n",
       "\n",
       "    Year_2011  Year_2012  Year_2013  Year_2014  ElantraSales  \n",
       "7           0          1          0          0         13820  \n",
       "14          0          0          0          0          9657  \n",
       "45          0          0          1          0         16751  \n",
       "48          0          1          0          0         19024  \n",
       "29          0          0          1          0         23958  "
      ]
     },
     "execution_count": 40,
     "metadata": {},
     "output_type": "execute_result"
    }
   ],
   "source": [
    "# concatenate X and y into a single dataframe\n",
    "data_train = pd.concat([X_train, y_train], axis=1)\n",
    "data_test=pd.concat([X_test,y_test],axis=1)\n",
    "data_train.head()"
   ]
  },
  {
   "cell_type": "code",
   "execution_count": 41,
   "metadata": {},
   "outputs": [
    {
     "data": {
      "text/plain": [
       "(35, 20)"
      ]
     },
     "execution_count": 41,
     "metadata": {},
     "output_type": "execute_result"
    }
   ],
   "source": [
    "data_train.shape"
   ]
  },
  {
   "cell_type": "code",
   "execution_count": 42,
   "metadata": {},
   "outputs": [
    {
     "data": {
      "text/plain": [
       "Index(['Unemployment', 'Queries', 'CPI_energy', 'CPI_all', 'Month_2',\n",
       "       'Month_3', 'Month_4', 'Month_5', 'Month_6', 'Month_7', 'Month_8',\n",
       "       'Month_9', 'Month_10', 'Month_11', 'Month_12', 'Year_2011', 'Year_2012',\n",
       "       'Year_2013', 'Year_2014', 'ElantraSales'],\n",
       "      dtype='object')"
      ]
     },
     "execution_count": 42,
     "metadata": {},
     "output_type": "execute_result"
    }
   ],
   "source": [
    "data_train.columns"
   ]
  },
  {
   "cell_type": "code",
   "execution_count": 43,
   "metadata": {},
   "outputs": [],
   "source": [
    "expr3= 'ElantraSales ~  Unemployment  + Queries  + CPI_energy  + CPI_all  + Month_2  + Month_3  + Month_4  + Month_5  + Month_6  + Month_7  + Month_8  + Month_9  + Month_10  + Month_11  + Month_12  + Year_2011  + Year_2012  + Year_2013  + Year_2014' "
   ]
  },
  {
   "cell_type": "code",
   "execution_count": 44,
   "metadata": {
    "ExecuteTime": {
     "end_time": "2020-04-24T06:10:48.607194Z",
     "start_time": "2020-04-24T06:10:48.524416Z"
    }
   },
   "outputs": [
    {
     "data": {
      "text/plain": [
       "Intercept       290910.117750\n",
       "Unemployment     -3926.939097\n",
       "Queries              6.552286\n",
       "CPI_energy         206.745580\n",
       "CPI_all          -1343.425559\n",
       "Month_2           2281.309580\n",
       "Month_3           9855.076809\n",
       "Month_4           8437.776143\n",
       "Month_5          10014.538413\n",
       "Month_6           9251.634612\n",
       "Month_7           9921.862972\n",
       "Month_8           9184.674546\n",
       "Month_9           6438.281371\n",
       "Month_10          4490.804828\n",
       "Month_11          4944.861731\n",
       "Month_12          7622.695768\n",
       "Year_2011         3163.876933\n",
       "Year_2012         6401.469083\n",
       "Year_2013        12509.933246\n",
       "Year_2014        12931.724509\n",
       "dtype: float64"
      ]
     },
     "execution_count": 44,
     "metadata": {},
     "output_type": "execute_result"
    }
   ],
   "source": [
    "import statsmodels.formula.api as smf\n",
    "lm3 = smf.ols(formula= expr3, data = data_train).fit()\n",
    "lm3.params"
   ]
  },
  {
   "cell_type": "code",
   "execution_count": 45,
   "metadata": {
    "ExecuteTime": {
     "end_time": "2020-04-24T06:10:49.907028Z",
     "start_time": "2020-04-24T06:10:49.875116Z"
    },
    "scrolled": false
   },
   "outputs": [
    {
     "name": "stdout",
     "output_type": "stream",
     "text": [
      "                            OLS Regression Results                            \n",
      "==============================================================================\n",
      "Dep. Variable:           ElantraSales   R-squared:                       0.916\n",
      "Model:                            OLS   Adj. R-squared:                  0.809\n",
      "Method:                 Least Squares   F-statistic:                     8.566\n",
      "Date:                Thu, 13 Apr 2023   Prob (F-statistic):           5.75e-05\n",
      "Time:                        18:00:50   Log-Likelihood:                -303.94\n",
      "No. Observations:                  35   AIC:                             647.9\n",
      "Df Residuals:                      15   BIC:                             679.0\n",
      "Df Model:                          19                                         \n",
      "Covariance Type:            nonrobust                                         \n",
      "================================================================================\n",
      "                   coef    std err          t      P>|t|      [0.025      0.975]\n",
      "--------------------------------------------------------------------------------\n",
      "Intercept     2.909e+05   2.17e+05      1.340      0.200   -1.72e+05    7.54e+05\n",
      "Unemployment -3926.9391   3246.292     -1.210      0.245   -1.08e+04    2992.370\n",
      "Queries          6.5523     15.733      0.416      0.683     -26.982      40.086\n",
      "CPI_energy     206.7456    145.611      1.420      0.176    -103.616     517.107\n",
      "CPI_all      -1343.4256   1064.480     -1.262      0.226   -3612.311     925.460\n",
      "Month_2       2281.3096   1743.397      1.309      0.210   -1434.652    5997.271\n",
      "Month_3       9855.0768   2383.026      4.136      0.001    4775.777    1.49e+04\n",
      "Month_4       8437.7761   1978.207      4.265      0.001    4221.329    1.27e+04\n",
      "Month_5       1.001e+04   2300.105      4.354      0.001    5111.981    1.49e+04\n",
      "Month_6       9251.6346   2641.825      3.502      0.003    3620.717    1.49e+04\n",
      "Month_7       9921.8630   3338.788      2.972      0.010    2805.405     1.7e+04\n",
      "Month_8       9184.6745   3188.413      2.881      0.011    2388.733     1.6e+04\n",
      "Month_9       6438.2814   3662.306      1.758      0.099   -1367.739    1.42e+04\n",
      "Month_10      4490.8048   3974.356      1.130      0.276   -3980.335     1.3e+04\n",
      "Month_11      4944.8617   3630.568      1.362      0.193   -2793.511    1.27e+04\n",
      "Month_12      7622.6958   4019.960      1.896      0.077    -945.647    1.62e+04\n",
      "Year_2011     3163.8769   5234.661      0.604      0.555   -7993.538    1.43e+04\n",
      "Year_2012     6401.4691   9828.941      0.651      0.525   -1.45e+04    2.74e+04\n",
      "Year_2013     1.251e+04   1.36e+04      0.919      0.373   -1.65e+04    4.15e+04\n",
      "Year_2014     1.293e+04   1.78e+04      0.728      0.478   -2.49e+04    5.08e+04\n",
      "==============================================================================\n",
      "Omnibus:                        1.322   Durbin-Watson:                   2.076\n",
      "Prob(Omnibus):                  0.516   Jarque-Bera (JB):                0.888\n",
      "Skew:                           0.390   Prob(JB):                        0.641\n",
      "Kurtosis:                       2.969   Cond. No.                     2.53e+05\n",
      "==============================================================================\n",
      "\n",
      "Warnings:\n",
      "[1] Standard Errors assume that the covariance matrix of the errors is correctly specified.\n",
      "[2] The condition number is large, 2.53e+05. This might indicate that there are\n",
      "strong multicollinearity or other numerical problems.\n"
     ]
    }
   ],
   "source": [
    "print(lm3.summary())"
   ]
  },
  {
   "cell_type": "code",
   "execution_count": 46,
   "metadata": {
    "ExecuteTime": {
     "end_time": "2020-04-24T06:10:51.653061Z",
     "start_time": "2020-04-24T06:10:51.553330Z"
    }
   },
   "outputs": [],
   "source": [
    "# Calculate MSE\n",
    "mse_train_3 = np.mean((lm3.predict(data_train.drop('ElantraSales',axis=1))-data_train['ElantraSales'])**2)"
   ]
  },
  {
   "cell_type": "code",
   "execution_count": 47,
   "metadata": {
    "ExecuteTime": {
     "end_time": "2020-04-24T06:11:47.478172Z",
     "start_time": "2020-04-24T06:11:47.473185Z"
    }
   },
   "outputs": [
    {
     "data": {
      "text/plain": [
       "1429.5948907976897"
      ]
     },
     "execution_count": 47,
     "metadata": {},
     "output_type": "execute_result"
    }
   ],
   "source": [
    "#Root Mean Squared Error - RMSE\n",
    "train_rmse_3 = np.sqrt(mse_train_3)\n",
    "train_rmse_3"
   ]
  },
  {
   "cell_type": "code",
   "execution_count": 48,
   "metadata": {
    "ExecuteTime": {
     "end_time": "2020-04-24T06:10:51.653061Z",
     "start_time": "2020-04-24T06:10:51.553330Z"
    }
   },
   "outputs": [],
   "source": [
    "# Calculate MSE\n",
    "mse_test_3 = np.mean((lm3.predict(data_test.drop('ElantraSales',axis=1))-data_test['ElantraSales'])**2)"
   ]
  },
  {
   "cell_type": "code",
   "execution_count": 49,
   "metadata": {
    "ExecuteTime": {
     "end_time": "2020-04-24T06:11:47.478172Z",
     "start_time": "2020-04-24T06:11:47.473185Z"
    }
   },
   "outputs": [
    {
     "data": {
      "text/plain": [
       "2718.9179638529895"
      ]
     },
     "execution_count": 49,
     "metadata": {},
     "output_type": "execute_result"
    }
   ],
   "source": [
    "#Root Mean Squared Error - RMSE\n",
    "test_rmse_3 = np.sqrt(mse_test_3)\n",
    "test_rmse_3"
   ]
  },
  {
   "cell_type": "code",
   "execution_count": 50,
   "metadata": {},
   "outputs": [],
   "source": [
    "R_squared_3 = 0.916\n",
    "Adj_R_squared_3 = 0.809"
   ]
  },
  {
   "cell_type": "markdown",
   "metadata": {},
   "source": [
    "### Comparing results"
   ]
  },
  {
   "cell_type": "code",
   "execution_count": 51,
   "metadata": {},
   "outputs": [
    {
     "data": {
      "text/html": [
       "<div>\n",
       "<style scoped>\n",
       "    .dataframe tbody tr th:only-of-type {\n",
       "        vertical-align: middle;\n",
       "    }\n",
       "\n",
       "    .dataframe tbody tr th {\n",
       "        vertical-align: top;\n",
       "    }\n",
       "\n",
       "    .dataframe thead th {\n",
       "        text-align: right;\n",
       "    }\n",
       "</style>\n",
       "<table border=\"1\" class=\"dataframe\">\n",
       "  <thead>\n",
       "    <tr style=\"text-align: right;\">\n",
       "      <th></th>\n",
       "      <th>Train RMSE</th>\n",
       "      <th>Test RMSE</th>\n",
       "      <th>R-Squared</th>\n",
       "      <th>Adj R-Squared</th>\n",
       "    </tr>\n",
       "  </thead>\n",
       "  <tbody>\n",
       "    <tr>\n",
       "      <th>Model1</th>\n",
       "      <td>3195.453846</td>\n",
       "      <td>4558.707027</td>\n",
       "      <td>0.578</td>\n",
       "      <td>0.522</td>\n",
       "    </tr>\n",
       "  </tbody>\n",
       "</table>\n",
       "</div>"
      ],
      "text/plain": [
       "         Train RMSE    Test RMSE  R-Squared  Adj R-Squared\n",
       "Model1  3195.453846  4558.707027      0.578          0.522"
      ]
     },
     "execution_count": 51,
     "metadata": {},
     "output_type": "execute_result"
    }
   ],
   "source": [
    "resultsDf1 = pd.DataFrame({'Train RMSE': [train_rmse_1],'Test RMSE': [test_rmse_1], 'R-Squared': [R_squared_1], 'Adj R-Squared': [Adj_R_squared_1]},index=['Model1'])\n",
    "resultsDf1"
   ]
  },
  {
   "cell_type": "code",
   "execution_count": 52,
   "metadata": {},
   "outputs": [
    {
     "data": {
      "text/html": [
       "<div>\n",
       "<style scoped>\n",
       "    .dataframe tbody tr th:only-of-type {\n",
       "        vertical-align: middle;\n",
       "    }\n",
       "\n",
       "    .dataframe tbody tr th {\n",
       "        vertical-align: top;\n",
       "    }\n",
       "\n",
       "    .dataframe thead th {\n",
       "        text-align: right;\n",
       "    }\n",
       "</style>\n",
       "<table border=\"1\" class=\"dataframe\">\n",
       "  <thead>\n",
       "    <tr style=\"text-align: right;\">\n",
       "      <th></th>\n",
       "      <th>Train RMSE</th>\n",
       "      <th>Test RMSE</th>\n",
       "      <th>R-Squared</th>\n",
       "      <th>Adj R-Squared</th>\n",
       "    </tr>\n",
       "  </thead>\n",
       "  <tbody>\n",
       "    <tr>\n",
       "      <th>Model2</th>\n",
       "      <td>3112.456126</td>\n",
       "      <td>4519.834106</td>\n",
       "      <td>0.6</td>\n",
       "      <td>0.514</td>\n",
       "    </tr>\n",
       "  </tbody>\n",
       "</table>\n",
       "</div>"
      ],
      "text/plain": [
       "         Train RMSE    Test RMSE  R-Squared  Adj R-Squared\n",
       "Model2  3112.456126  4519.834106        0.6          0.514"
      ]
     },
     "execution_count": 52,
     "metadata": {},
     "output_type": "execute_result"
    }
   ],
   "source": [
    "resultsDf2 = pd.DataFrame({'Train RMSE': [train_rmse_2],'Test RMSE': [test_rmse_2], 'R-Squared': [R_squared_2], 'Adj R-Squared': [Adj_R_squared_2]},index=['Model2'])\n",
    "resultsDf2"
   ]
  },
  {
   "cell_type": "code",
   "execution_count": 53,
   "metadata": {},
   "outputs": [
    {
     "data": {
      "text/html": [
       "<div>\n",
       "<style scoped>\n",
       "    .dataframe tbody tr th:only-of-type {\n",
       "        vertical-align: middle;\n",
       "    }\n",
       "\n",
       "    .dataframe tbody tr th {\n",
       "        vertical-align: top;\n",
       "    }\n",
       "\n",
       "    .dataframe thead th {\n",
       "        text-align: right;\n",
       "    }\n",
       "</style>\n",
       "<table border=\"1\" class=\"dataframe\">\n",
       "  <thead>\n",
       "    <tr style=\"text-align: right;\">\n",
       "      <th></th>\n",
       "      <th>Train RMSE</th>\n",
       "      <th>Test RMSE</th>\n",
       "      <th>R-Squared</th>\n",
       "      <th>Adj R-Squared</th>\n",
       "    </tr>\n",
       "  </thead>\n",
       "  <tbody>\n",
       "    <tr>\n",
       "      <th>Model3</th>\n",
       "      <td>1429.594891</td>\n",
       "      <td>2718.917964</td>\n",
       "      <td>0.916</td>\n",
       "      <td>0.809</td>\n",
       "    </tr>\n",
       "  </tbody>\n",
       "</table>\n",
       "</div>"
      ],
      "text/plain": [
       "         Train RMSE    Test RMSE  R-Squared  Adj R-Squared\n",
       "Model3  1429.594891  2718.917964      0.916          0.809"
      ]
     },
     "execution_count": 53,
     "metadata": {},
     "output_type": "execute_result"
    }
   ],
   "source": [
    "resultsDf3 = pd.DataFrame({'Train RMSE': [train_rmse_3],'Test RMSE': [test_rmse_3], 'R-Squared': [R_squared_3], 'Adj R-Squared': [Adj_R_squared_3]},index=['Model3'])\n",
    "resultsDf3"
   ]
  },
  {
   "cell_type": "code",
   "execution_count": 54,
   "metadata": {},
   "outputs": [],
   "source": [
    "frames = [resultsDf1, resultsDf2, resultsDf3]\n",
    "results = pd.concat(frames)"
   ]
  },
  {
   "cell_type": "code",
   "execution_count": 55,
   "metadata": {},
   "outputs": [
    {
     "data": {
      "text/html": [
       "<div>\n",
       "<style scoped>\n",
       "    .dataframe tbody tr th:only-of-type {\n",
       "        vertical-align: middle;\n",
       "    }\n",
       "\n",
       "    .dataframe tbody tr th {\n",
       "        vertical-align: top;\n",
       "    }\n",
       "\n",
       "    .dataframe thead th {\n",
       "        text-align: right;\n",
       "    }\n",
       "</style>\n",
       "<table border=\"1\" class=\"dataframe\">\n",
       "  <thead>\n",
       "    <tr style=\"text-align: right;\">\n",
       "      <th></th>\n",
       "      <th>Train RMSE</th>\n",
       "      <th>Test RMSE</th>\n",
       "      <th>R-Squared</th>\n",
       "      <th>Adj R-Squared</th>\n",
       "    </tr>\n",
       "  </thead>\n",
       "  <tbody>\n",
       "    <tr>\n",
       "      <th>Model1</th>\n",
       "      <td>3195.453846</td>\n",
       "      <td>4558.707027</td>\n",
       "      <td>0.578</td>\n",
       "      <td>0.522</td>\n",
       "    </tr>\n",
       "    <tr>\n",
       "      <th>Model2</th>\n",
       "      <td>3112.456126</td>\n",
       "      <td>4519.834106</td>\n",
       "      <td>0.600</td>\n",
       "      <td>0.514</td>\n",
       "    </tr>\n",
       "    <tr>\n",
       "      <th>Model3</th>\n",
       "      <td>1429.594891</td>\n",
       "      <td>2718.917964</td>\n",
       "      <td>0.916</td>\n",
       "      <td>0.809</td>\n",
       "    </tr>\n",
       "  </tbody>\n",
       "</table>\n",
       "</div>"
      ],
      "text/plain": [
       "         Train RMSE    Test RMSE  R-Squared  Adj R-Squared\n",
       "Model1  3195.453846  4558.707027      0.578          0.522\n",
       "Model2  3112.456126  4519.834106      0.600          0.514\n",
       "Model3  1429.594891  2718.917964      0.916          0.809"
      ]
     },
     "execution_count": 55,
     "metadata": {},
     "output_type": "execute_result"
    }
   ],
   "source": [
    "results"
   ]
  },
  {
   "cell_type": "markdown",
   "metadata": {},
   "source": [
    "### Building a model by dropping the 2 highly correlated variables viz. CPI_energy & CPI_all"
   ]
  },
  {
   "cell_type": "code",
   "execution_count": 56,
   "metadata": {},
   "outputs": [
    {
     "name": "stdout",
     "output_type": "stream",
     "text": [
      "(50, 19) (50, 1)\n"
     ]
    }
   ],
   "source": [
    "print(X.shape, y.shape)"
   ]
  },
  {
   "cell_type": "code",
   "execution_count": 57,
   "metadata": {},
   "outputs": [],
   "source": [
    "X_train,X_test,y_train,y_test = train_test_split(X,y,test_size=0.3,random_state = 0)"
   ]
  },
  {
   "cell_type": "code",
   "execution_count": 58,
   "metadata": {},
   "outputs": [
    {
     "name": "stdout",
     "output_type": "stream",
     "text": [
      "(35, 19) (15, 19) (35, 1) (15, 1)\n"
     ]
    }
   ],
   "source": [
    "print(X_train.shape, X_test.shape, y_train.shape, y_test.shape)"
   ]
  },
  {
   "cell_type": "code",
   "execution_count": 59,
   "metadata": {
    "ExecuteTime": {
     "end_time": "2020-04-24T06:10:41.934742Z",
     "start_time": "2020-04-24T06:10:41.917762Z"
    }
   },
   "outputs": [
    {
     "data": {
      "text/html": [
       "<div>\n",
       "<style scoped>\n",
       "    .dataframe tbody tr th:only-of-type {\n",
       "        vertical-align: middle;\n",
       "    }\n",
       "\n",
       "    .dataframe tbody tr th {\n",
       "        vertical-align: top;\n",
       "    }\n",
       "\n",
       "    .dataframe thead th {\n",
       "        text-align: right;\n",
       "    }\n",
       "</style>\n",
       "<table border=\"1\" class=\"dataframe\">\n",
       "  <thead>\n",
       "    <tr style=\"text-align: right;\">\n",
       "      <th></th>\n",
       "      <th>Unemployment</th>\n",
       "      <th>Queries</th>\n",
       "      <th>CPI_energy</th>\n",
       "      <th>CPI_all</th>\n",
       "      <th>Month_2</th>\n",
       "      <th>Month_3</th>\n",
       "      <th>Month_4</th>\n",
       "      <th>Month_5</th>\n",
       "      <th>Month_6</th>\n",
       "      <th>Month_7</th>\n",
       "      <th>Month_8</th>\n",
       "      <th>Month_9</th>\n",
       "      <th>Month_10</th>\n",
       "      <th>Month_11</th>\n",
       "      <th>Month_12</th>\n",
       "      <th>Year_2011</th>\n",
       "      <th>Year_2012</th>\n",
       "      <th>Year_2013</th>\n",
       "      <th>Year_2014</th>\n",
       "      <th>ElantraSales</th>\n",
       "    </tr>\n",
       "  </thead>\n",
       "  <tbody>\n",
       "    <tr>\n",
       "      <th>7</th>\n",
       "      <td>8.3</td>\n",
       "      <td>296</td>\n",
       "      <td>247.615</td>\n",
       "      <td>228.138</td>\n",
       "      <td>1</td>\n",
       "      <td>0</td>\n",
       "      <td>0</td>\n",
       "      <td>0</td>\n",
       "      <td>0</td>\n",
       "      <td>0</td>\n",
       "      <td>0</td>\n",
       "      <td>0</td>\n",
       "      <td>0</td>\n",
       "      <td>0</td>\n",
       "      <td>0</td>\n",
       "      <td>0</td>\n",
       "      <td>1</td>\n",
       "      <td>0</td>\n",
       "      <td>0</td>\n",
       "      <td>13820</td>\n",
       "    </tr>\n",
       "    <tr>\n",
       "      <th>14</th>\n",
       "      <td>9.9</td>\n",
       "      <td>132</td>\n",
       "      <td>209.024</td>\n",
       "      <td>217.376</td>\n",
       "      <td>0</td>\n",
       "      <td>0</td>\n",
       "      <td>1</td>\n",
       "      <td>0</td>\n",
       "      <td>0</td>\n",
       "      <td>0</td>\n",
       "      <td>0</td>\n",
       "      <td>0</td>\n",
       "      <td>0</td>\n",
       "      <td>0</td>\n",
       "      <td>0</td>\n",
       "      <td>0</td>\n",
       "      <td>0</td>\n",
       "      <td>0</td>\n",
       "      <td>0</td>\n",
       "      <td>9657</td>\n",
       "    </tr>\n",
       "    <tr>\n",
       "      <th>45</th>\n",
       "      <td>7.0</td>\n",
       "      <td>231</td>\n",
       "      <td>242.301</td>\n",
       "      <td>234.033</td>\n",
       "      <td>0</td>\n",
       "      <td>0</td>\n",
       "      <td>0</td>\n",
       "      <td>0</td>\n",
       "      <td>0</td>\n",
       "      <td>0</td>\n",
       "      <td>0</td>\n",
       "      <td>0</td>\n",
       "      <td>0</td>\n",
       "      <td>1</td>\n",
       "      <td>0</td>\n",
       "      <td>0</td>\n",
       "      <td>0</td>\n",
       "      <td>1</td>\n",
       "      <td>0</td>\n",
       "      <td>16751</td>\n",
       "    </tr>\n",
       "    <tr>\n",
       "      <th>48</th>\n",
       "      <td>7.9</td>\n",
       "      <td>275</td>\n",
       "      <td>244.698</td>\n",
       "      <td>231.099</td>\n",
       "      <td>0</td>\n",
       "      <td>0</td>\n",
       "      <td>0</td>\n",
       "      <td>0</td>\n",
       "      <td>0</td>\n",
       "      <td>0</td>\n",
       "      <td>0</td>\n",
       "      <td>0</td>\n",
       "      <td>0</td>\n",
       "      <td>0</td>\n",
       "      <td>1</td>\n",
       "      <td>0</td>\n",
       "      <td>1</td>\n",
       "      <td>0</td>\n",
       "      <td>0</td>\n",
       "      <td>19024</td>\n",
       "    </tr>\n",
       "    <tr>\n",
       "      <th>29</th>\n",
       "      <td>7.3</td>\n",
       "      <td>274</td>\n",
       "      <td>245.926</td>\n",
       "      <td>233.252</td>\n",
       "      <td>0</td>\n",
       "      <td>0</td>\n",
       "      <td>0</td>\n",
       "      <td>0</td>\n",
       "      <td>0</td>\n",
       "      <td>1</td>\n",
       "      <td>0</td>\n",
       "      <td>0</td>\n",
       "      <td>0</td>\n",
       "      <td>0</td>\n",
       "      <td>0</td>\n",
       "      <td>0</td>\n",
       "      <td>0</td>\n",
       "      <td>1</td>\n",
       "      <td>0</td>\n",
       "      <td>23958</td>\n",
       "    </tr>\n",
       "  </tbody>\n",
       "</table>\n",
       "</div>"
      ],
      "text/plain": [
       "    Unemployment  Queries  CPI_energy  CPI_all  Month_2  Month_3  Month_4  \\\n",
       "7            8.3      296     247.615  228.138        1        0        0   \n",
       "14           9.9      132     209.024  217.376        0        0        1   \n",
       "45           7.0      231     242.301  234.033        0        0        0   \n",
       "48           7.9      275     244.698  231.099        0        0        0   \n",
       "29           7.3      274     245.926  233.252        0        0        0   \n",
       "\n",
       "    Month_5  Month_6  Month_7  Month_8  Month_9  Month_10  Month_11  Month_12  \\\n",
       "7         0        0        0        0        0         0         0         0   \n",
       "14        0        0        0        0        0         0         0         0   \n",
       "45        0        0        0        0        0         0         1         0   \n",
       "48        0        0        0        0        0         0         0         1   \n",
       "29        0        0        1        0        0         0         0         0   \n",
       "\n",
       "    Year_2011  Year_2012  Year_2013  Year_2014  ElantraSales  \n",
       "7           0          1          0          0         13820  \n",
       "14          0          0          0          0          9657  \n",
       "45          0          0          1          0         16751  \n",
       "48          0          1          0          0         19024  \n",
       "29          0          0          1          0         23958  "
      ]
     },
     "execution_count": 59,
     "metadata": {},
     "output_type": "execute_result"
    }
   ],
   "source": [
    "# concatenate X and y into a single dataframe\n",
    "data_train = pd.concat([X_train, y_train], axis=1)\n",
    "data_test=pd.concat([X_test,y_test],axis=1)\n",
    "data_train.head()"
   ]
  },
  {
   "cell_type": "code",
   "execution_count": 60,
   "metadata": {},
   "outputs": [
    {
     "data": {
      "text/plain": [
       "(35, 20)"
      ]
     },
     "execution_count": 60,
     "metadata": {},
     "output_type": "execute_result"
    }
   ],
   "source": [
    "data_train.shape"
   ]
  },
  {
   "cell_type": "code",
   "execution_count": 61,
   "metadata": {},
   "outputs": [
    {
     "data": {
      "text/plain": [
       "Index(['Unemployment', 'Queries', 'CPI_energy', 'CPI_all', 'Month_2',\n",
       "       'Month_3', 'Month_4', 'Month_5', 'Month_6', 'Month_7', 'Month_8',\n",
       "       'Month_9', 'Month_10', 'Month_11', 'Month_12', 'Year_2011', 'Year_2012',\n",
       "       'Year_2013', 'Year_2014', 'ElantraSales'],\n",
       "      dtype='object')"
      ]
     },
     "execution_count": 61,
     "metadata": {},
     "output_type": "execute_result"
    }
   ],
   "source": [
    "data_train.columns"
   ]
  },
  {
   "cell_type": "code",
   "execution_count": 62,
   "metadata": {},
   "outputs": [],
   "source": [
    "expr4= 'ElantraSales ~  Unemployment  + Queries  + Month_2  + Month_3  + Month_4  + Month_5  + Month_6  + Month_7  + Month_8  + Month_9  + Month_10  + Month_11  + Month_12  + Year_2011  + Year_2012  + Year_2013  + Year_2014' "
   ]
  },
  {
   "cell_type": "code",
   "execution_count": 63,
   "metadata": {
    "ExecuteTime": {
     "end_time": "2020-04-24T06:10:48.607194Z",
     "start_time": "2020-04-24T06:10:48.524416Z"
    }
   },
   "outputs": [
    {
     "data": {
      "text/plain": [
       "Intercept       28820.139410\n",
       "Unemployment    -2557.239656\n",
       "Queries            15.038953\n",
       "Month_2          2322.362713\n",
       "Month_3          9331.507173\n",
       "Month_4          7512.061835\n",
       "Month_5          8793.853469\n",
       "Month_6          7160.571167\n",
       "Month_7          8298.456085\n",
       "Month_8          6671.097109\n",
       "Month_9          4096.382621\n",
       "Month_10         1782.195251\n",
       "Month_11         2298.586900\n",
       "Month_12         4814.751956\n",
       "Year_2011         299.292043\n",
       "Year_2012        -971.206346\n",
       "Year_2013        1386.580986\n",
       "Year_2014       -1225.345048\n",
       "dtype: float64"
      ]
     },
     "execution_count": 63,
     "metadata": {},
     "output_type": "execute_result"
    }
   ],
   "source": [
    "import statsmodels.formula.api as smf\n",
    "lm4 = smf.ols(formula= expr4, data = data_train).fit()\n",
    "lm4.params"
   ]
  },
  {
   "cell_type": "code",
   "execution_count": 64,
   "metadata": {
    "ExecuteTime": {
     "end_time": "2020-04-24T06:10:49.907028Z",
     "start_time": "2020-04-24T06:10:49.875116Z"
    },
    "scrolled": false
   },
   "outputs": [
    {
     "name": "stdout",
     "output_type": "stream",
     "text": [
      "                            OLS Regression Results                            \n",
      "==============================================================================\n",
      "Dep. Variable:           ElantraSales   R-squared:                       0.904\n",
      "Model:                            OLS   Adj. R-squared:                  0.808\n",
      "Method:                 Least Squares   F-statistic:                     9.395\n",
      "Date:                Thu, 13 Apr 2023   Prob (F-statistic):           1.45e-05\n",
      "Time:                        18:00:52   Log-Likelihood:                -306.23\n",
      "No. Observations:                  35   AIC:                             648.5\n",
      "Df Residuals:                      17   BIC:                             676.5\n",
      "Df Model:                          17                                         \n",
      "Covariance Type:            nonrobust                                         \n",
      "================================================================================\n",
      "                   coef    std err          t      P>|t|      [0.025      0.975]\n",
      "--------------------------------------------------------------------------------\n",
      "Intercept     2.882e+04   3.08e+04      0.935      0.363   -3.62e+04    9.39e+04\n",
      "Unemployment -2557.2397   3105.155     -0.824      0.422   -9108.544    3994.065\n",
      "Queries         15.0390     13.430      1.120      0.278     -13.297      43.375\n",
      "Month_2       2322.3627   1701.849      1.365      0.190   -1268.225    5912.950\n",
      "Month_3       9331.5072   2308.782      4.042      0.001    4460.402    1.42e+04\n",
      "Month_4       7512.0618   1785.484      4.207      0.001    3745.020    1.13e+04\n",
      "Month_5       8793.8535   1991.138      4.416      0.000    4592.919     1.3e+04\n",
      "Month_6       7160.5712   2087.286      3.431      0.003    2756.782    1.16e+04\n",
      "Month_7       8298.4561   2873.886      2.888      0.010    2235.087    1.44e+04\n",
      "Month_8       6671.0971   2580.391      2.585      0.019    1226.949    1.21e+04\n",
      "Month_9       4096.3826   2900.092      1.413      0.176   -2022.277    1.02e+04\n",
      "Month_10      1782.1953   2584.691      0.690      0.500   -3671.027    7235.418\n",
      "Month_11      2298.5869   2206.769      1.042      0.312   -2357.289    6954.462\n",
      "Month_12      4814.7520   2621.652      1.837      0.084    -716.450    1.03e+04\n",
      "Year_2011      299.2920   3522.615      0.085      0.933   -7132.776    7731.360\n",
      "Year_2012     -971.2063   5514.356     -0.176      0.862   -1.26e+04    1.07e+04\n",
      "Year_2013     1386.5810   7543.927      0.184      0.856   -1.45e+04    1.73e+04\n",
      "Year_2014    -1225.3450   1.04e+04     -0.118      0.908   -2.32e+04    2.07e+04\n",
      "==============================================================================\n",
      "Omnibus:                        1.565   Durbin-Watson:                   2.075\n",
      "Prob(Omnibus):                  0.457   Jarque-Bera (JB):                0.609\n",
      "Skew:                           0.134   Prob(JB):                        0.738\n",
      "Kurtosis:                       3.588   Cond. No.                     2.53e+04\n",
      "==============================================================================\n",
      "\n",
      "Warnings:\n",
      "[1] Standard Errors assume that the covariance matrix of the errors is correctly specified.\n",
      "[2] The condition number is large, 2.53e+04. This might indicate that there are\n",
      "strong multicollinearity or other numerical problems.\n"
     ]
    }
   ],
   "source": [
    "print(lm4.summary())"
   ]
  },
  {
   "cell_type": "code",
   "execution_count": 65,
   "metadata": {
    "ExecuteTime": {
     "end_time": "2020-04-24T06:10:51.653061Z",
     "start_time": "2020-04-24T06:10:51.553330Z"
    }
   },
   "outputs": [],
   "source": [
    "# Calculate MSE\n",
    "mse_train_4 = np.mean((lm4.predict(data_train.drop('ElantraSales',axis=1))-data_train['ElantraSales'])**2)"
   ]
  },
  {
   "cell_type": "code",
   "execution_count": 66,
   "metadata": {
    "ExecuteTime": {
     "end_time": "2020-04-24T06:11:47.478172Z",
     "start_time": "2020-04-24T06:11:47.473185Z"
    }
   },
   "outputs": [
    {
     "data": {
      "text/plain": [
       "1526.3435454832206"
      ]
     },
     "execution_count": 66,
     "metadata": {},
     "output_type": "execute_result"
    }
   ],
   "source": [
    "#Root Mean Squared Error - RMSE\n",
    "train_rmse_4 = np.sqrt(mse_train_4)\n",
    "train_rmse_4"
   ]
  },
  {
   "cell_type": "code",
   "execution_count": 67,
   "metadata": {
    "ExecuteTime": {
     "end_time": "2020-04-24T06:10:51.653061Z",
     "start_time": "2020-04-24T06:10:51.553330Z"
    }
   },
   "outputs": [],
   "source": [
    "# Calculate MSE\n",
    "mse_test_4 = np.mean((lm4.predict(data_test.drop('ElantraSales',axis=1))-data_test['ElantraSales'])**2)"
   ]
  },
  {
   "cell_type": "code",
   "execution_count": 68,
   "metadata": {
    "ExecuteTime": {
     "end_time": "2020-04-24T06:11:47.478172Z",
     "start_time": "2020-04-24T06:11:47.473185Z"
    }
   },
   "outputs": [
    {
     "data": {
      "text/plain": [
       "3187.4688545646627"
      ]
     },
     "execution_count": 68,
     "metadata": {},
     "output_type": "execute_result"
    }
   ],
   "source": [
    "#Root Mean Squared Error - RMSE\n",
    "test_rmse_4 = np.sqrt(mse_test_4)\n",
    "test_rmse_4"
   ]
  },
  {
   "cell_type": "code",
   "execution_count": 69,
   "metadata": {},
   "outputs": [],
   "source": [
    "R_squared_4 = 0.904\n",
    "Adj_R_squared_4 = 0.808"
   ]
  },
  {
   "cell_type": "code",
   "execution_count": 70,
   "metadata": {},
   "outputs": [
    {
     "data": {
      "text/html": [
       "<div>\n",
       "<style scoped>\n",
       "    .dataframe tbody tr th:only-of-type {\n",
       "        vertical-align: middle;\n",
       "    }\n",
       "\n",
       "    .dataframe tbody tr th {\n",
       "        vertical-align: top;\n",
       "    }\n",
       "\n",
       "    .dataframe thead th {\n",
       "        text-align: right;\n",
       "    }\n",
       "</style>\n",
       "<table border=\"1\" class=\"dataframe\">\n",
       "  <thead>\n",
       "    <tr style=\"text-align: right;\">\n",
       "      <th></th>\n",
       "      <th>Train RMSE</th>\n",
       "      <th>Test RMSE</th>\n",
       "      <th>R-Squared</th>\n",
       "      <th>Adj R-Squared</th>\n",
       "    </tr>\n",
       "  </thead>\n",
       "  <tbody>\n",
       "    <tr>\n",
       "      <th>Model4</th>\n",
       "      <td>1526.343545</td>\n",
       "      <td>3187.468855</td>\n",
       "      <td>0.904</td>\n",
       "      <td>0.808</td>\n",
       "    </tr>\n",
       "  </tbody>\n",
       "</table>\n",
       "</div>"
      ],
      "text/plain": [
       "         Train RMSE    Test RMSE  R-Squared  Adj R-Squared\n",
       "Model4  1526.343545  3187.468855      0.904          0.808"
      ]
     },
     "execution_count": 70,
     "metadata": {},
     "output_type": "execute_result"
    }
   ],
   "source": [
    "resultsDf4 = pd.DataFrame({'Train RMSE': [train_rmse_4],'Test RMSE': [test_rmse_4], 'R-Squared': [R_squared_4], 'Adj R-Squared': [Adj_R_squared_4]},index=['Model4'])\n",
    "resultsDf4"
   ]
  },
  {
   "cell_type": "code",
   "execution_count": 71,
   "metadata": {},
   "outputs": [],
   "source": [
    "frames = [resultsDf1, resultsDf2, resultsDf3, resultsDf4]\n",
    "results = pd.concat(frames)"
   ]
  },
  {
   "cell_type": "code",
   "execution_count": 72,
   "metadata": {},
   "outputs": [
    {
     "data": {
      "text/html": [
       "<div>\n",
       "<style scoped>\n",
       "    .dataframe tbody tr th:only-of-type {\n",
       "        vertical-align: middle;\n",
       "    }\n",
       "\n",
       "    .dataframe tbody tr th {\n",
       "        vertical-align: top;\n",
       "    }\n",
       "\n",
       "    .dataframe thead th {\n",
       "        text-align: right;\n",
       "    }\n",
       "</style>\n",
       "<table border=\"1\" class=\"dataframe\">\n",
       "  <thead>\n",
       "    <tr style=\"text-align: right;\">\n",
       "      <th></th>\n",
       "      <th>Train RMSE</th>\n",
       "      <th>Test RMSE</th>\n",
       "      <th>R-Squared</th>\n",
       "      <th>Adj R-Squared</th>\n",
       "    </tr>\n",
       "  </thead>\n",
       "  <tbody>\n",
       "    <tr>\n",
       "      <th>Model1</th>\n",
       "      <td>3195.453846</td>\n",
       "      <td>4558.707027</td>\n",
       "      <td>0.578</td>\n",
       "      <td>0.522</td>\n",
       "    </tr>\n",
       "    <tr>\n",
       "      <th>Model2</th>\n",
       "      <td>3112.456126</td>\n",
       "      <td>4519.834106</td>\n",
       "      <td>0.600</td>\n",
       "      <td>0.514</td>\n",
       "    </tr>\n",
       "    <tr>\n",
       "      <th>Model3</th>\n",
       "      <td>1429.594891</td>\n",
       "      <td>2718.917964</td>\n",
       "      <td>0.916</td>\n",
       "      <td>0.809</td>\n",
       "    </tr>\n",
       "    <tr>\n",
       "      <th>Model4</th>\n",
       "      <td>1526.343545</td>\n",
       "      <td>3187.468855</td>\n",
       "      <td>0.904</td>\n",
       "      <td>0.808</td>\n",
       "    </tr>\n",
       "  </tbody>\n",
       "</table>\n",
       "</div>"
      ],
      "text/plain": [
       "         Train RMSE    Test RMSE  R-Squared  Adj R-Squared\n",
       "Model1  3195.453846  4558.707027      0.578          0.522\n",
       "Model2  3112.456126  4519.834106      0.600          0.514\n",
       "Model3  1429.594891  2718.917964      0.916          0.809\n",
       "Model4  1526.343545  3187.468855      0.904          0.808"
      ]
     },
     "execution_count": 72,
     "metadata": {},
     "output_type": "execute_result"
    }
   ],
   "source": [
    "results"
   ]
  },
  {
   "cell_type": "code",
   "execution_count": null,
   "metadata": {},
   "outputs": [],
   "source": []
  }
 ],
 "metadata": {
  "kernelspec": {
   "display_name": "Python 3 (ipykernel)",
   "language": "python",
   "name": "python3"
  },
  "language_info": {
   "codemirror_mode": {
    "name": "ipython",
    "version": 3
   },
   "file_extension": ".py",
   "mimetype": "text/x-python",
   "name": "python",
   "nbconvert_exporter": "python",
   "pygments_lexer": "ipython3",
   "version": "3.9.12"
  }
 },
 "nbformat": 4,
 "nbformat_minor": 4
}
