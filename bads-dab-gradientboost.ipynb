{
 "cells": [
  {
   "cell_type": "code",
   "execution_count": 45,
   "id": "2c2a29bc",
   "metadata": {},
   "outputs": [],
   "source": [
    "import pandas as pd\n",
    "from sklearn.model_selection import train_test_split\n",
    "from sklearn.preprocessing import LabelEncoder\n",
    "from sklearn.ensemble import GradientBoostingRegressor\n",
    "from sklearn.metrics import mean_squared_error\n",
    "from sklearn.impute import SimpleImputer\n",
    "from sklearn.impute import KNNImputer\n",
    "from sklearn.preprocessing import OneHotEncoder\n",
    "#from sklearn.impute import IterativeImputer"
   ]
  },
  {
   "cell_type": "code",
   "execution_count": 46,
   "id": "73adf3ab",
   "metadata": {},
   "outputs": [],
   "source": [
    "data = pd.read_csv('train.csv')"
   ]
  },
  {
   "cell_type": "code",
   "execution_count": 47,
   "id": "e66b3129",
   "metadata": {},
   "outputs": [],
   "source": [
    "# Select the features and target variable\n",
    "selected_features = ['emp_length', 'homeownership', 'annual_income', 'verified_income', 'debt_to_income',\n",
    "                     'delinq_2y', 'total_credit_limit', 'total_credit_utilized', 'public_record_bankrupt',\n",
    "                     'loan_purpose', 'application_type', 'loan_amount', 'term', 'issue_month']\n",
    "target_variable = 'interest_rate'"
   ]
  },
  {
   "cell_type": "code",
   "execution_count": 48,
   "id": "bd1710ef",
   "metadata": {},
   "outputs": [],
   "source": [
    "# Drop rows with missing values\n",
    "data = data[selected_features + [target_variable]].dropna()"
   ]
  },
  {
   "cell_type": "code",
   "execution_count": 49,
   "id": "8141eac5",
   "metadata": {},
   "outputs": [],
   "source": [
    "\n",
    "# Encode categorical features\n",
    "categorical_features = ['homeownership', 'verified_income', 'loan_purpose', 'application_type']\n",
    "for feature in categorical_features:\n",
    "    label_encoder = LabelEncoder()\n",
    "    data[feature] = label_encoder.fit_transform(data[feature])"
   ]
  },
  {
   "cell_type": "code",
   "execution_count": 50,
   "id": "2ae97cd9",
   "metadata": {},
   "outputs": [],
   "source": [
    "# Encode 'issue_month' feature\n",
    "data['issue_month'] = pd.to_datetime(data['issue_month'], format='%b-%y')\n",
    "data['issue_month_year'] = data['issue_month'].dt.year\n",
    "data['issue_month'] = data['issue_month'].dt.month"
   ]
  },
  {
   "cell_type": "code",
   "execution_count": 51,
   "id": "233e0904",
   "metadata": {},
   "outputs": [],
   "source": [
    "# Split the data into training and test sets\n",
    "X = data[selected_features]\n",
    "y = data[target_variable]\n",
    "X_train, X_test, y_train, y_test = train_test_split(X, y, test_size=0.2, random_state=42)\n"
   ]
  },
  {
   "cell_type": "code",
   "execution_count": 52,
   "id": "e40649de",
   "metadata": {},
   "outputs": [
    {
     "data": {
      "text/plain": [
       "GradientBoostingRegressor(n_estimators=200, random_state=42)"
      ]
     },
     "execution_count": 52,
     "metadata": {},
     "output_type": "execute_result"
    }
   ],
   "source": [
    "model = GradientBoostingRegressor(n_estimators=200, learning_rate=0.1, random_state=42)\n",
    "model.fit(X_train, y_train)"
   ]
  },
  {
   "cell_type": "code",
   "execution_count": 53,
   "id": "30e2271f",
   "metadata": {},
   "outputs": [],
   "source": [
    "# Make predictions on the test set\n",
    "y_pred = model.predict(X_test)"
   ]
  },
  {
   "cell_type": "code",
   "execution_count": 54,
   "id": "0d2c55ea",
   "metadata": {},
   "outputs": [
    {
     "name": "stdout",
     "output_type": "stream",
     "text": [
      "RMSE: 4.120501513142302\n"
     ]
    }
   ],
   "source": [
    "rmse = mean_squared_error(y_test, y_pred, squared=False)\n",
    "print(\"RMSE:\", rmse)"
   ]
  },
  {
   "cell_type": "code",
   "execution_count": 55,
   "id": "74c436f6",
   "metadata": {},
   "outputs": [],
   "source": [
    "test_data = pd.read_csv('test.csv')"
   ]
  },
  {
   "cell_type": "code",
   "execution_count": 56,
   "id": "06ef3dff",
   "metadata": {
    "scrolled": true
   },
   "outputs": [
    {
     "name": "stdout",
     "output_type": "stream",
     "text": [
      "<class 'pandas.core.frame.DataFrame'>\n",
      "RangeIndex: 1000 entries, 0 to 999\n",
      "Data columns (total 15 columns):\n",
      " #   Column                  Non-Null Count  Dtype  \n",
      "---  ------                  --------------  -----  \n",
      " 0   loan_number             1000 non-null   int64  \n",
      " 1   emp_length              900 non-null    float64\n",
      " 2   homeownership           1000 non-null   object \n",
      " 3   annual_income           1000 non-null   float64\n",
      " 4   verified_income         1000 non-null   object \n",
      " 5   debt_to_income          998 non-null    float64\n",
      " 6   delinq_2y               1000 non-null   int64  \n",
      " 7   total_credit_limit      1000 non-null   int64  \n",
      " 8   total_credit_utilized   1000 non-null   int64  \n",
      " 9   public_record_bankrupt  1000 non-null   int64  \n",
      " 10  loan_purpose            1000 non-null   object \n",
      " 11  application_type        1000 non-null   object \n",
      " 12  loan_amount             1000 non-null   int64  \n",
      " 13  term                    1000 non-null   int64  \n",
      " 14  issue_month             1000 non-null   object \n",
      "dtypes: float64(3), int64(7), object(5)\n",
      "memory usage: 117.3+ KB\n"
     ]
    }
   ],
   "source": [
    "test_data.info()"
   ]
  },
  {
   "cell_type": "code",
   "execution_count": 90,
   "id": "5e95be8d",
   "metadata": {},
   "outputs": [
    {
     "data": {
      "text/plain": [
       "loan_number                 0\n",
       "emp_length                100\n",
       "homeownership               0\n",
       "annual_income               0\n",
       "verified_income             0\n",
       "debt_to_income              2\n",
       "delinq_2y                   0\n",
       "total_credit_limit          0\n",
       "total_credit_utilized       0\n",
       "public_record_bankrupt      0\n",
       "loan_purpose                0\n",
       "application_type            0\n",
       "loan_amount                 0\n",
       "term                        0\n",
       "issue_month                 0\n",
       "dtype: int64"
      ]
     },
     "execution_count": 90,
     "metadata": {},
     "output_type": "execute_result"
    }
   ],
   "source": [
    "test_data.isnull().sum()"
   ]
  },
  {
   "cell_type": "code",
   "execution_count": 91,
   "id": "fad322ed",
   "metadata": {},
   "outputs": [],
   "source": [
    "test_data['emp_length'] = test_data['emp_length'].fillna(test_data['emp_length'].mean())"
   ]
  },
  {
   "cell_type": "code",
   "execution_count": 95,
   "id": "1c241565",
   "metadata": {},
   "outputs": [],
   "source": [
    "test_data['debt_to_income'] = test_data['debt_to_income'].fillna(test_data['debt_to_income'].mean())"
   ]
  },
  {
   "cell_type": "code",
   "execution_count": 110,
   "id": "dff3cc42",
   "metadata": {},
   "outputs": [
    {
     "data": {
      "text/plain": [
       "loan_number               0\n",
       "emp_length                0\n",
       "homeownership             0\n",
       "annual_income             0\n",
       "verified_income           0\n",
       "debt_to_income            0\n",
       "delinq_2y                 0\n",
       "total_credit_limit        0\n",
       "total_credit_utilized     0\n",
       "public_record_bankrupt    0\n",
       "loan_purpose              0\n",
       "application_type          0\n",
       "loan_amount               0\n",
       "term                      0\n",
       "issue_month               0\n",
       "dtype: int64"
      ]
     },
     "execution_count": 110,
     "metadata": {},
     "output_type": "execute_result"
    }
   ],
   "source": [
    "test_data.isnull().sum()"
   ]
  },
  {
   "cell_type": "code",
   "execution_count": 111,
   "id": "67024af5",
   "metadata": {},
   "outputs": [],
   "source": [
    "# Instantiate the GradientBoostingRegressor model\n",
    "model = GradientBoostingRegressor()"
   ]
  },
  {
   "cell_type": "code",
   "execution_count": 112,
   "id": "00ffd9e6",
   "metadata": {},
   "outputs": [
    {
     "data": {
      "text/plain": [
       "GradientBoostingRegressor()"
      ]
     },
     "execution_count": 112,
     "metadata": {},
     "output_type": "execute_result"
    }
   ],
   "source": [
    "model.fit(X_train, y_train)"
   ]
  },
  {
   "cell_type": "code",
   "execution_count": 113,
   "id": "02cf39e6",
   "metadata": {},
   "outputs": [],
   "source": [
    "# Predict interest_rate on the test data\n",
    "y_pred = model.predict(X_test)"
   ]
  },
  {
   "cell_type": "code",
   "execution_count": 114,
   "id": "6667c863",
   "metadata": {},
   "outputs": [
    {
     "name": "stdout",
     "output_type": "stream",
     "text": [
      "RMSE: 4.085002530836454\n"
     ]
    }
   ],
   "source": [
    "rmse = mean_squared_error(y_test, y_pred, squared=False)\n",
    "print(\"RMSE:\", rmse)"
   ]
  },
  {
   "cell_type": "code",
   "execution_count": 108,
   "id": "c83fc717",
   "metadata": {},
   "outputs": [
    {
     "data": {
      "text/plain": [
       "GradientBoostingRegressor()"
      ]
     },
     "execution_count": 108,
     "metadata": {},
     "output_type": "execute_result"
    }
   ],
   "source": [
    "model.fit(X, y)"
   ]
  },
  {
   "cell_type": "code",
   "execution_count": 115,
   "id": "7f5ad376",
   "metadata": {},
   "outputs": [
    {
     "data": {
      "text/plain": [
       "array([ 8.53584533,  9.23864922,  9.39802679,  9.41461879,  7.48814044,\n",
       "       12.52127287, 12.31794612, 11.0248986 , 12.4176866 , 12.15853028,\n",
       "       10.69113227, 12.22008785, 15.85690856, 12.63175145, 10.83083192,\n",
       "       10.61375708,  8.58604988, 10.56282403, 14.39192015, 13.76154668,\n",
       "        9.76294296, 10.3388476 , 11.82655778, 18.97216316, 12.50096936,\n",
       "       12.82935339, 15.0153035 ,  9.80502659, 19.8903154 , 12.51552811,\n",
       "       13.81727394, 10.26910559, 13.36939075, 13.27622669, 13.36911491,\n",
       "       15.15812815, 11.3420117 , 12.56805863, 14.82420387, 10.42551332,\n",
       "        7.82286337, 12.54648194,  9.08999586,  8.36443563, 13.12368496,\n",
       "       11.76837662,  9.2659724 , 14.21505842,  9.29110447,  9.49946796,\n",
       "        6.51464941, 12.03726097, 15.9455565 , 12.9603091 , 11.08459274,\n",
       "       12.65286702, 14.40552897, 11.98400258,  9.81502378, 10.38150706,\n",
       "       10.47875283, 13.40293254, 14.44708313, 14.15960971, 10.52325948,\n",
       "       11.75361554, 14.98240887,  9.14440843, 11.96129637, 13.42552541,\n",
       "       10.18491616, 14.90697761,  9.73521667, 10.09028685, 13.39034244,\n",
       "        9.56534084,  8.90140931, 12.3344672 , 13.99614272, 14.22786662,\n",
       "       13.40766823, 15.77290572, 10.08142843, 12.02751342, 16.58654697,\n",
       "        7.72009094, 11.87093885, 15.02265803, 18.5513777 ,  7.69581814,\n",
       "       13.23560843,  9.76926164, 13.20422947, 17.23735936, 13.21809373,\n",
       "        7.17162543, 13.38207263, 14.28386164, 13.03804333, 13.35633924,\n",
       "       11.45006337, 14.55793513, 11.8038261 ,  9.4584728 ,  8.7184699 ,\n",
       "        8.06017247, 18.76929394,  8.99696789,  8.88640186, 10.78699028,\n",
       "       15.78205586, 12.71935365,  8.77669035, 15.73967403, 15.0128209 ,\n",
       "       14.52708961,  9.07796773,  8.53915937, 18.50147622,  9.37873617,\n",
       "        9.47135169, 12.47957042, 10.99510759, 11.60860672, 12.88380647,\n",
       "       11.60200552, 13.21038587, 13.17831821, 12.56826989, 11.8272488 ,\n",
       "        8.4026657 , 11.98896922, 10.13968511,  8.17074078,  7.92525011,\n",
       "       12.60708061, 13.31653665, 10.74409529,  9.95075039,  9.93970716,\n",
       "       21.58674918, 12.64373674, 12.21325906, 13.81035777, 12.14339621,\n",
       "       13.95970902, 10.93639783, 16.64856126, 10.2535693 , 13.0094455 ,\n",
       "       10.48662999,  8.14751835, 12.17850744, 20.73580071,  9.44992666,\n",
       "       18.18950537, 18.29469728, 14.98517613, 17.52505733, 16.33218363,\n",
       "       13.68502517,  7.79791766,  7.91472894, 14.30135781, 17.74658981,\n",
       "       10.67301641, 14.46067519, 14.24422745, 13.99837122, 16.09124434,\n",
       "        6.67526312, 11.98979989, 14.90780591, 14.6964986 , 14.62453128,\n",
       "       18.253242  , 13.23136112, 15.85897623, 14.39549493, 10.79543097,\n",
       "       13.92332592, 13.75118176, 12.62452383, 19.64767885, 11.17538555,\n",
       "       11.19538938, 12.04414305, 11.96261784, 10.43749232, 11.40326576,\n",
       "       14.86515392, 13.69747764,  8.55390151, 13.14522882, 14.89188426,\n",
       "       10.39359565, 11.31082879, 12.3850402 , 17.73815566, 17.84377594,\n",
       "        9.93881755, 11.93544756,  8.73389162,  9.5144815 , 10.82698268,\n",
       "       10.30576824,  8.50100186,  9.52723103, 13.04389141, 11.01085839,\n",
       "       18.0079323 , 11.84293638, 13.01953156, 13.02760737, 10.89160633,\n",
       "       11.89920921, 14.24748272, 14.48013987, 18.37252562, 12.47658181,\n",
       "       10.07560628,  9.01566265,  9.28963646, 12.59909884,  9.18710576,\n",
       "       13.60607703,  8.38912912, 12.59951623,  8.8718666 , 14.69280962,\n",
       "       12.37827399, 11.4586563 , 11.15838346,  9.11007302, 10.97256227,\n",
       "        9.27086156, 17.58824095, 11.25222877,  9.39389415, 10.64903748,\n",
       "       11.20370596, 13.90292039,  9.59268875,  7.61761889,  9.34024163,\n",
       "       16.11555575, 17.68927726, 19.02935862, 10.8222949 , 13.4769575 ,\n",
       "       14.09292405,  8.41628414, 10.80387362, 11.82737955,  8.85003513,\n",
       "        7.30093432, 10.16652333,  8.27398933, 18.63728327, 19.2462443 ,\n",
       "       16.20129356, 13.35129312, 15.96193145,  9.95954764, 13.7107677 ,\n",
       "       11.62024595, 13.65816705, 10.27348331, 11.68312966, 13.69408634,\n",
       "       13.86797572, 12.88496945, 10.34856366, 11.74302779, 13.367993  ,\n",
       "       11.52866625,  8.82746343, 15.91792182,  8.45867234, 13.47145884,\n",
       "       10.84125938,  7.7357896 , 14.59543678, 12.05979316, 10.63822164,\n",
       "       13.16622449,  9.4824093 , 17.19784248, 16.83988995, 10.38407687,\n",
       "       11.35914811, 13.34875211, 11.09983118,  9.55175527, 10.30986132,\n",
       "       11.46468316, 12.85077485, 10.11831391, 16.39434605, 15.23201186,\n",
       "       12.57900108, 17.73922231, 10.73718875, 10.8506932 , 11.74114487,\n",
       "       14.14686967,  7.36283358, 12.05138774, 16.50508231, 14.11684016,\n",
       "       14.50192667,  9.52909558,  8.96460637, 14.25490972, 11.72064217,\n",
       "       11.65140221, 11.64384836, 14.9229517 , 14.97072928, 11.04394799,\n",
       "       15.97907943,  9.14264348,  7.69353268, 14.58814942, 12.55656656,\n",
       "       12.1730241 , 13.47736663, 12.0560011 , 13.02992969, 12.22371147,\n",
       "        8.93699336, 15.32701954, 17.01077359, 11.11157298, 13.24911895,\n",
       "       12.84537695, 13.36979851, 10.39068201,  8.71562421,  9.74532191,\n",
       "       14.17725647, 10.49131944,  7.84683992,  9.31625486, 12.5800614 ,\n",
       "       14.29564206, 13.48192647, 15.8901641 , 13.25717985,  8.27723468,\n",
       "       14.50622031,  9.12188769, 12.88839326, 11.49335427, 14.53852007,\n",
       "       18.00207499, 13.67468707, 10.75956481, 10.13538688, 13.83151917,\n",
       "       13.55391984, 11.50898423, 13.71298765, 19.49685009, 15.07130188,\n",
       "       17.6323315 , 10.11145223, 13.00133802, 12.04672072, 11.16996491,\n",
       "       12.45302784, 11.74946387, 11.31177399,  8.9292115 , 11.29837897,\n",
       "       14.33758723,  9.11727718, 11.74933227, 18.40556613, 15.54843498,\n",
       "       10.01580012, 12.93154377, 12.21436559, 13.13892308, 10.3141612 ,\n",
       "       12.29570281, 12.39161996, 15.03714774,  9.0248021 , 15.26440395,\n",
       "       13.80471681, 16.76557966,  8.5156245 ,  8.10816669, 12.16064626,\n",
       "       12.29394123, 11.32251746,  9.86682018,  8.36481211, 13.70456809,\n",
       "       16.90504432, 11.52265079, 15.22806238, 15.0118529 , 16.36164375,\n",
       "       13.18015379, 13.25422467, 12.80834984, 10.34778051, 16.14264748,\n",
       "       10.54717877,  8.32826672, 12.83509465, 13.77837575, 15.19863674,\n",
       "       14.51567095,  9.22128647, 13.87683977, 14.50409103, 12.24158172,\n",
       "       12.16697177, 12.72718828, 11.10219612, 16.89951399, 12.13133443,\n",
       "        7.37663253, 16.47330309, 11.78298987, 11.0540827 , 11.58203328,\n",
       "       10.29722749, 10.72247818,  9.63456139, 14.31579692, 12.57831779,\n",
       "        9.85336522, 12.17343563, 10.68623936, 16.10378116, 12.11215197,\n",
       "       15.42733797, 12.9068817 , 11.4064821 ,  9.97099477, 12.92290615,\n",
       "       11.73794535,  9.30790857,  9.87032921, 14.1869961 ,  9.42643779,\n",
       "       12.47359582, 12.3502235 , 11.42281423, 10.90674024,  8.70372003,\n",
       "        8.3794817 , 16.1021864 ,  7.38245678, 18.75884296, 10.24518539,\n",
       "       11.12733883,  9.32701791,  7.33192841, 11.91897386, 13.5732952 ,\n",
       "        9.94241156, 12.41142186, 10.70830663,  9.85533574, 12.47454637,\n",
       "       11.78646199, 15.59551268,  8.63581232,  9.13852185,  8.71936965,\n",
       "        9.00379829, 12.35309641, 10.85420512, 17.03174972, 10.55122037,\n",
       "       12.45170976,  9.58579401, 11.74455027, 13.12229937, 12.71388334,\n",
       "       14.6402502 , 11.06589144, 10.40230402, 12.38451028, 12.67876839,\n",
       "       10.75345938, 17.55027622, 15.31260782, 11.6752767 ,  7.26557323,\n",
       "       10.73379814, 11.05221522, 11.75052744, 12.6234545 ,  7.51058626,\n",
       "       13.05021571,  9.4275227 ,  7.97870944, 17.83569364, 16.38530668,\n",
       "       15.71117169, 14.6279754 , 10.53042797,  9.59203077,  8.38596806,\n",
       "       10.35091507,  9.2748258 , 12.82550879, 11.40176888,  9.78391771,\n",
       "       16.20643312, 13.38286942, 13.14683054,  9.15080861,  7.7883319 ,\n",
       "       11.81602865, 14.74272458, 11.28038187, 12.71796432, 15.34679537,\n",
       "       16.29196946, 11.12391407, 15.91146285, 11.54216165, 11.46706744,\n",
       "       15.08912291, 11.45866097, 11.75478577, 13.13646523, 12.33780584,\n",
       "       12.86034753, 12.46526575, 13.52379236, 14.97489863, 14.01015104,\n",
       "       10.34764839, 12.57990135, 12.11295674, 11.62671074, 10.74265641,\n",
       "       14.32015548, 11.47611016,  9.88414224, 10.19408428, 13.62257153,\n",
       "       17.81521759,  8.98863108,  9.28777605,  7.10895384, 10.65164015,\n",
       "        8.23630679, 11.45030863, 15.30532188, 10.62669833, 10.22564574,\n",
       "       12.5612408 , 10.6612148 , 15.70525939, 12.74644997, 11.71141625,\n",
       "       11.08374202, 13.63573767, 15.16301543, 13.61290643, 11.92091372,\n",
       "       13.24300669, 11.74226857, 14.46881264,  7.79042387,  8.5105435 ,\n",
       "       13.14783336,  9.69779733,  8.39645857, 10.47167106, 16.19799544,\n",
       "       11.16883252, 11.23051584, 15.08983215, 12.63548449,  9.15208704,\n",
       "       11.71199846,  9.60749775, 11.79027832, 11.70732145,  9.28248852,\n",
       "       12.77277065, 11.25900806,  7.53532538,  8.41921982,  8.65981555,\n",
       "        9.48759066, 11.50321488, 11.61435302,  9.91458587, 10.93308755,\n",
       "        8.09072116, 13.43398072, 14.36496663, 10.32711789, 11.51161796,\n",
       "        8.25571978, 13.3036426 ,  8.57392153, 12.32379841, 12.34393006,\n",
       "        9.60314873, 11.4658409 , 15.03085068, 13.0902396 , 17.58695978,\n",
       "       14.77335679, 13.62737707, 12.63262204,  8.4651318 , 14.17425065,\n",
       "       17.90958444,  8.46116894, 10.57749667, 10.79829499, 11.25644598,\n",
       "       13.99246902, 18.31821545, 12.75746693, 12.28675275, 10.91077861,\n",
       "       15.26535549, 10.97174572, 12.34585931, 16.36641725,  8.46600929,\n",
       "       17.9943195 , 14.96251588, 12.78263123,  9.20014218, 11.5976596 ,\n",
       "        7.36880283, 11.63631986, 10.91954074, 10.50191935,  8.4642619 ,\n",
       "       12.97917091,  7.97925596, 10.65524917,  9.42631099, 14.73637653,\n",
       "       13.58783307,  9.92595629, 17.18195323, 12.56152567, 14.53778067,\n",
       "       11.15010636,  9.5972355 , 12.11667828, 14.81833077,  9.93051205,\n",
       "       14.88978493, 11.74276979,  7.33473683, 12.46034944, 15.89693639,\n",
       "       19.70305327, 12.46418008, 14.4353158 , 18.20725206, 18.33808395,\n",
       "        8.94356219, 13.57116325, 12.83498976, 12.15832115, 10.46102002,\n",
       "       18.13244427, 14.30927536, 16.89066391, 15.36895424, 19.55963144,\n",
       "       11.79618586, 13.70343091,  9.07133116, 14.92675681, 13.88081625,\n",
       "       17.12255829, 10.24883177, 11.99805451,  9.47922893,  7.79769135,\n",
       "        9.77010803, 11.54465217,  9.56043411, 12.6781229 , 15.59692361,\n",
       "        9.91853258, 16.85410017, 11.29099311, 13.76554387, 16.72666493,\n",
       "        9.78871953, 15.44606515, 10.56716944, 11.60292486, 11.75362334,\n",
       "       10.40181945, 15.21769103, 13.89766962, 17.7703295 ,  8.13215878,\n",
       "       12.70541817, 17.33123221, 19.5747042 ,  7.91391908,  9.07601501,\n",
       "       12.36897094,  7.97924875, 10.05103405,  8.84405853, 10.0294669 ,\n",
       "       12.47222754,  7.95611772, 10.2685077 , 15.04790813, 15.55697672,\n",
       "        6.91951626, 12.19194259, 16.76914607, 14.09171171, 16.00991951,\n",
       "       13.35449631,  9.88244262, 11.43694269, 14.14019555, 17.69304944,\n",
       "        7.492617  ,  9.90350005, 10.45952166, 11.98013143])"
      ]
     },
     "execution_count": 115,
     "metadata": {},
     "output_type": "execute_result"
    }
   ],
   "source": [
    "y_pred"
   ]
  },
  {
   "cell_type": "code",
   "execution_count": 117,
   "id": "0216683d",
   "metadata": {},
   "outputs": [
    {
     "data": {
      "text/html": [
       "<div>\n",
       "<style scoped>\n",
       "    .dataframe tbody tr th:only-of-type {\n",
       "        vertical-align: middle;\n",
       "    }\n",
       "\n",
       "    .dataframe tbody tr th {\n",
       "        vertical-align: top;\n",
       "    }\n",
       "\n",
       "    .dataframe thead th {\n",
       "        text-align: right;\n",
       "    }\n",
       "</style>\n",
       "<table border=\"1\" class=\"dataframe\">\n",
       "  <thead>\n",
       "    <tr style=\"text-align: right;\">\n",
       "      <th></th>\n",
       "      <th>loan_number</th>\n",
       "    </tr>\n",
       "  </thead>\n",
       "  <tbody>\n",
       "    <tr>\n",
       "      <th>0</th>\n",
       "      <td>4000</td>\n",
       "    </tr>\n",
       "    <tr>\n",
       "      <th>1</th>\n",
       "      <td>4001</td>\n",
       "    </tr>\n",
       "    <tr>\n",
       "      <th>2</th>\n",
       "      <td>4002</td>\n",
       "    </tr>\n",
       "    <tr>\n",
       "      <th>3</th>\n",
       "      <td>4003</td>\n",
       "    </tr>\n",
       "    <tr>\n",
       "      <th>4</th>\n",
       "      <td>4004</td>\n",
       "    </tr>\n",
       "    <tr>\n",
       "      <th>...</th>\n",
       "      <td>...</td>\n",
       "    </tr>\n",
       "    <tr>\n",
       "      <th>995</th>\n",
       "      <td>4995</td>\n",
       "    </tr>\n",
       "    <tr>\n",
       "      <th>996</th>\n",
       "      <td>4996</td>\n",
       "    </tr>\n",
       "    <tr>\n",
       "      <th>997</th>\n",
       "      <td>4997</td>\n",
       "    </tr>\n",
       "    <tr>\n",
       "      <th>998</th>\n",
       "      <td>4998</td>\n",
       "    </tr>\n",
       "    <tr>\n",
       "      <th>999</th>\n",
       "      <td>4999</td>\n",
       "    </tr>\n",
       "  </tbody>\n",
       "</table>\n",
       "<p>1000 rows × 1 columns</p>\n",
       "</div>"
      ],
      "text/plain": [
       "     loan_number\n",
       "0           4000\n",
       "1           4001\n",
       "2           4002\n",
       "3           4003\n",
       "4           4004\n",
       "..           ...\n",
       "995         4995\n",
       "996         4996\n",
       "997         4997\n",
       "998         4998\n",
       "999         4999\n",
       "\n",
       "[1000 rows x 1 columns]"
      ]
     },
     "execution_count": 117,
     "metadata": {},
     "output_type": "execute_result"
    }
   ],
   "source": [
    "submission_gbx = test_data[[\"loan_number\"]]\n",
    "submission_gbx"
   ]
  },
  {
   "cell_type": "code",
   "execution_count": 120,
   "id": "04a2ef22",
   "metadata": {},
   "outputs": [
    {
     "name": "stderr",
     "output_type": "stream",
     "text": [
      "C:\\Users\\devil\\anaconda3\\lib\\site-packages\\sklearn\\base.py:450: UserWarning: X does not have valid feature names, but GradientBoostingRegressor was fitted with feature names\n",
      "  warnings.warn(\n"
     ]
    },
    {
     "ename": "ValueError",
     "evalue": "X has 15 features, but GradientBoostingRegressor is expecting 14 features as input.",
     "output_type": "error",
     "traceback": [
      "\u001b[1;31m---------------------------------------------------------------------------\u001b[0m",
      "\u001b[1;31mValueError\u001b[0m                                Traceback (most recent call last)",
      "Input \u001b[1;32mIn [120]\u001b[0m, in \u001b[0;36m<cell line: 1>\u001b[1;34m()\u001b[0m\n\u001b[1;32m----> 1\u001b[0m test_predictions \u001b[38;5;241m=\u001b[39m \u001b[43mmodel\u001b[49m\u001b[38;5;241;43m.\u001b[39;49m\u001b[43mpredict\u001b[49m\u001b[43m(\u001b[49m\u001b[43mtest_features_imputed\u001b[49m\u001b[43m)\u001b[49m\n",
      "File \u001b[1;32m~\\anaconda3\\lib\\site-packages\\sklearn\\ensemble\\_gb.py:1877\u001b[0m, in \u001b[0;36mGradientBoostingRegressor.predict\u001b[1;34m(self, X)\u001b[0m\n\u001b[0;32m   1862\u001b[0m \u001b[38;5;28;01mdef\u001b[39;00m \u001b[38;5;21mpredict\u001b[39m(\u001b[38;5;28mself\u001b[39m, X):\n\u001b[0;32m   1863\u001b[0m     \u001b[38;5;124;03m\"\"\"Predict regression target for X.\u001b[39;00m\n\u001b[0;32m   1864\u001b[0m \n\u001b[0;32m   1865\u001b[0m \u001b[38;5;124;03m    Parameters\u001b[39;00m\n\u001b[1;32m   (...)\u001b[0m\n\u001b[0;32m   1875\u001b[0m \u001b[38;5;124;03m        The predicted values.\u001b[39;00m\n\u001b[0;32m   1876\u001b[0m \u001b[38;5;124;03m    \"\"\"\u001b[39;00m\n\u001b[1;32m-> 1877\u001b[0m     X \u001b[38;5;241m=\u001b[39m \u001b[38;5;28;43mself\u001b[39;49m\u001b[38;5;241;43m.\u001b[39;49m\u001b[43m_validate_data\u001b[49m\u001b[43m(\u001b[49m\n\u001b[0;32m   1878\u001b[0m \u001b[43m        \u001b[49m\u001b[43mX\u001b[49m\u001b[43m,\u001b[49m\u001b[43m \u001b[49m\u001b[43mdtype\u001b[49m\u001b[38;5;241;43m=\u001b[39;49m\u001b[43mDTYPE\u001b[49m\u001b[43m,\u001b[49m\u001b[43m \u001b[49m\u001b[43morder\u001b[49m\u001b[38;5;241;43m=\u001b[39;49m\u001b[38;5;124;43m\"\u001b[39;49m\u001b[38;5;124;43mC\u001b[39;49m\u001b[38;5;124;43m\"\u001b[39;49m\u001b[43m,\u001b[49m\u001b[43m \u001b[49m\u001b[43maccept_sparse\u001b[49m\u001b[38;5;241;43m=\u001b[39;49m\u001b[38;5;124;43m\"\u001b[39;49m\u001b[38;5;124;43mcsr\u001b[39;49m\u001b[38;5;124;43m\"\u001b[39;49m\u001b[43m,\u001b[49m\u001b[43m \u001b[49m\u001b[43mreset\u001b[49m\u001b[38;5;241;43m=\u001b[39;49m\u001b[38;5;28;43;01mFalse\u001b[39;49;00m\n\u001b[0;32m   1879\u001b[0m \u001b[43m    \u001b[49m\u001b[43m)\u001b[49m\n\u001b[0;32m   1880\u001b[0m     \u001b[38;5;66;03m# In regression we can directly return the raw value from the trees.\u001b[39;00m\n\u001b[0;32m   1881\u001b[0m     \u001b[38;5;28;01mreturn\u001b[39;00m \u001b[38;5;28mself\u001b[39m\u001b[38;5;241m.\u001b[39m_raw_predict(X)\u001b[38;5;241m.\u001b[39mravel()\n",
      "File \u001b[1;32m~\\anaconda3\\lib\\site-packages\\sklearn\\base.py:585\u001b[0m, in \u001b[0;36mBaseEstimator._validate_data\u001b[1;34m(self, X, y, reset, validate_separately, **check_params)\u001b[0m\n\u001b[0;32m    582\u001b[0m     out \u001b[38;5;241m=\u001b[39m X, y\n\u001b[0;32m    584\u001b[0m \u001b[38;5;28;01mif\u001b[39;00m \u001b[38;5;129;01mnot\u001b[39;00m no_val_X \u001b[38;5;129;01mand\u001b[39;00m check_params\u001b[38;5;241m.\u001b[39mget(\u001b[38;5;124m\"\u001b[39m\u001b[38;5;124mensure_2d\u001b[39m\u001b[38;5;124m\"\u001b[39m, \u001b[38;5;28;01mTrue\u001b[39;00m):\n\u001b[1;32m--> 585\u001b[0m     \u001b[38;5;28;43mself\u001b[39;49m\u001b[38;5;241;43m.\u001b[39;49m\u001b[43m_check_n_features\u001b[49m\u001b[43m(\u001b[49m\u001b[43mX\u001b[49m\u001b[43m,\u001b[49m\u001b[43m \u001b[49m\u001b[43mreset\u001b[49m\u001b[38;5;241;43m=\u001b[39;49m\u001b[43mreset\u001b[49m\u001b[43m)\u001b[49m\n\u001b[0;32m    587\u001b[0m \u001b[38;5;28;01mreturn\u001b[39;00m out\n",
      "File \u001b[1;32m~\\anaconda3\\lib\\site-packages\\sklearn\\base.py:400\u001b[0m, in \u001b[0;36mBaseEstimator._check_n_features\u001b[1;34m(self, X, reset)\u001b[0m\n\u001b[0;32m    397\u001b[0m     \u001b[38;5;28;01mreturn\u001b[39;00m\n\u001b[0;32m    399\u001b[0m \u001b[38;5;28;01mif\u001b[39;00m n_features \u001b[38;5;241m!=\u001b[39m \u001b[38;5;28mself\u001b[39m\u001b[38;5;241m.\u001b[39mn_features_in_:\n\u001b[1;32m--> 400\u001b[0m     \u001b[38;5;28;01mraise\u001b[39;00m \u001b[38;5;167;01mValueError\u001b[39;00m(\n\u001b[0;32m    401\u001b[0m         \u001b[38;5;124mf\u001b[39m\u001b[38;5;124m\"\u001b[39m\u001b[38;5;124mX has \u001b[39m\u001b[38;5;132;01m{\u001b[39;00mn_features\u001b[38;5;132;01m}\u001b[39;00m\u001b[38;5;124m features, but \u001b[39m\u001b[38;5;132;01m{\u001b[39;00m\u001b[38;5;28mself\u001b[39m\u001b[38;5;241m.\u001b[39m\u001b[38;5;18m__class__\u001b[39m\u001b[38;5;241m.\u001b[39m\u001b[38;5;18m__name__\u001b[39m\u001b[38;5;132;01m}\u001b[39;00m\u001b[38;5;124m \u001b[39m\u001b[38;5;124m\"\u001b[39m\n\u001b[0;32m    402\u001b[0m         \u001b[38;5;124mf\u001b[39m\u001b[38;5;124m\"\u001b[39m\u001b[38;5;124mis expecting \u001b[39m\u001b[38;5;132;01m{\u001b[39;00m\u001b[38;5;28mself\u001b[39m\u001b[38;5;241m.\u001b[39mn_features_in_\u001b[38;5;132;01m}\u001b[39;00m\u001b[38;5;124m features as input.\u001b[39m\u001b[38;5;124m\"\u001b[39m\n\u001b[0;32m    403\u001b[0m     )\n",
      "\u001b[1;31mValueError\u001b[0m: X has 15 features, but GradientBoostingRegressor is expecting 14 features as input."
     ]
    }
   ],
   "source": [
    "test_predictions = model.predict(test_features_imputed)"
   ]
  },
  {
   "cell_type": "code",
   "execution_count": null,
   "id": "6cb63bb6",
   "metadata": {},
   "outputs": [],
   "source": []
  },
  {
   "cell_type": "code",
   "execution_count": null,
   "id": "31c7125c",
   "metadata": {},
   "outputs": [],
   "source": []
  }
 ],
 "metadata": {
  "kernelspec": {
   "display_name": "Python 3 (ipykernel)",
   "language": "python",
   "name": "python3"
  },
  "language_info": {
   "codemirror_mode": {
    "name": "ipython",
    "version": 3
   },
   "file_extension": ".py",
   "mimetype": "text/x-python",
   "name": "python",
   "nbconvert_exporter": "python",
   "pygments_lexer": "ipython3",
   "version": "3.9.12"
  }
 },
 "nbformat": 4,
 "nbformat_minor": 5
}
